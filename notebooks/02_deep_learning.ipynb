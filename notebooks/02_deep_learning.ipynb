{
 "cells": [
  {
   "cell_type": "markdown",
   "metadata": {},
   "source": [
    "# Deep Learning and Foundation Models for Forecasting"
   ]
  },
  {
   "cell_type": "markdown",
   "metadata": {},
   "source": [
    "### Overview of this notebook\n",
    "\n",
    "* Global Forecasting\n",
    "    * Introduction\n",
    "    * Example with/without exogenous data\n",
    "    * Global Forecasters in sktime\n",
    "* Foundation Models\n",
    "    * Introduction\n",
    "    * Examples\n",
    "    * Sktime Vendors\n",
    "* Recap\n",
    "* Credits"
   ]
  },
  {
   "cell_type": "code",
   "execution_count": 1,
   "metadata": {},
   "outputs": [],
   "source": [
    "import warnings\n",
    "\n",
    "warnings.filterwarnings(\"ignore\")"
   ]
  },
  {
   "cell_type": "markdown",
   "metadata": {},
   "source": [
    "## Global Forecasting"
   ]
  },
  {
   "cell_type": "markdown",
   "metadata": {},
   "source": [
    "global forecasting = (pre-)training model on examples, to later forecast\n",
    "\n",
    "Common examples:\n",
    "\n",
    "* transformer based deep learning forecasters, pre-training and fine-tuning\n",
    "* reduction forecasters with sklearn regressors trained on larger sample"
   ]
  },
  {
   "cell_type": "markdown",
   "metadata": {},
   "source": [
    "<img src=\"./img/global-fcst.png\" alt=\"Global Forecast\" style=\"width: 100%; max-width: 600px;\">"
   ]
  },
  {
   "cell_type": "markdown",
   "metadata": {},
   "source": [
    "Mathematically, vanilla case:\n",
    "\n",
    "   - train on dataset containing $n$ time series $y_1(t), y_2(t), \\dots, y_N(t)$\n",
    "   - forecast on another time series $y^*(t)$\n",
    "       - given $y^*(t_1), \\dots, y^*(t_T),$ produce forecasts $y^*(t_T + h_1), \\dots, y^*(t_T + h_H)$"
   ]
  },
  {
   "cell_type": "markdown",
   "metadata": {},
   "source": [
    "basic `sktime` interface for global forecasting:\n",
    "\n",
    "```python\n",
    "model.fit(y=y_train, fh=fh)\n",
    "model.predict(y=y_deploy)  # new time series passed in predict!\n",
    "```"
   ]
  },
  {
   "cell_type": "markdown",
   "metadata": {},
   "source": [
    "To search for global forecasters, use the `capability:global_forecasting` tag:"
   ]
  },
  {
   "cell_type": "code",
   "execution_count": 2,
   "metadata": {},
   "outputs": [
    {
     "data": {
      "text/plain": [
       "True"
      ]
     },
     "execution_count": 2,
     "metadata": {},
     "output_type": "execute_result"
    }
   ],
   "source": [
    "from sktime.forecasting.pytorchforecasting import PytorchForecastingDeepAR\n",
    "\n",
    "PytorchForecastingDeepAR().get_tag(\n",
    "    \"capability:global_forecasting\"\n",
    ")  # should return True"
   ]
  },
  {
   "cell_type": "markdown",
   "metadata": {},
   "source": [
    "### Example"
   ]
  },
  {
   "cell_type": "markdown",
   "metadata": {},
   "source": [
    "The data is from the [Stallion kaggle competition](https://www.kaggle.com/datasets/utathya/future-volume-prediction)."
   ]
  },
  {
   "cell_type": "code",
   "execution_count": 3,
   "metadata": {},
   "outputs": [],
   "source": [
    "from utils import load_stallion\n",
    "\n",
    "X, y = load_stallion()"
   ]
  },
  {
   "cell_type": "markdown",
   "metadata": {},
   "source": [
    "#### Global Forecasting without exogeneous data\n",
    "\n",
    "First, let's try to fit and predict without exogeneous data"
   ]
  },
  {
   "cell_type": "code",
   "execution_count": 4,
   "metadata": {},
   "outputs": [],
   "source": [
    "from sktime.forecasting.base import ForecastingHorizon\n",
    "\n",
    "fh = ForecastingHorizon([1, 2, 3, 4, 5, 6, 7, 8, 9], is_relative=True, freq=\"MS\")\n",
    "\n",
    "from sklearn.model_selection import train_test_split\n",
    "\n",
    "y_train, y_test = train_test_split(y, test_size=0.1, train_size=0.9, shuffle=False)\n",
    "y_true = y_test.groupby(level=[0,1]).apply(lambda x: x.droplevel([0,1]).iloc[-max(fh):])\n",
    "y_test = y_test.groupby(level=[0,1]).apply(lambda x: x.droplevel([0,1]).iloc[:-max(fh)])"
   ]
  },
  {
   "cell_type": "markdown",
   "metadata": {},
   "source": [
    "`y_train` is the series we want to fit on which contains the first 90% of the time series instances."
   ]
  },
  {
   "cell_type": "code",
   "execution_count": 5,
   "metadata": {},
   "outputs": [
    {
     "data": {
      "text/html": [
       "<div>\n",
       "<style scoped>\n",
       "    .dataframe tbody tr th:only-of-type {\n",
       "        vertical-align: middle;\n",
       "    }\n",
       "\n",
       "    .dataframe tbody tr th {\n",
       "        vertical-align: top;\n",
       "    }\n",
       "\n",
       "    .dataframe thead th {\n",
       "        text-align: right;\n",
       "    }\n",
       "</style>\n",
       "<table border=\"1\" class=\"dataframe\">\n",
       "  <thead>\n",
       "    <tr style=\"text-align: right;\">\n",
       "      <th></th>\n",
       "      <th></th>\n",
       "      <th></th>\n",
       "      <th>volume</th>\n",
       "    </tr>\n",
       "    <tr>\n",
       "      <th>agency</th>\n",
       "      <th>sku</th>\n",
       "      <th>date</th>\n",
       "      <th></th>\n",
       "    </tr>\n",
       "  </thead>\n",
       "  <tbody>\n",
       "    <tr>\n",
       "      <th rowspan=\"5\" valign=\"top\">Agency_01</th>\n",
       "      <th rowspan=\"5\" valign=\"top\">SKU_01</th>\n",
       "      <th>2013-01-01</th>\n",
       "      <td>80.67600</td>\n",
       "    </tr>\n",
       "    <tr>\n",
       "      <th>2013-02-01</th>\n",
       "      <td>98.06400</td>\n",
       "    </tr>\n",
       "    <tr>\n",
       "      <th>2013-03-01</th>\n",
       "      <td>133.70400</td>\n",
       "    </tr>\n",
       "    <tr>\n",
       "      <th>2013-04-01</th>\n",
       "      <td>147.31200</td>\n",
       "    </tr>\n",
       "    <tr>\n",
       "      <th>2013-05-01</th>\n",
       "      <td>175.60800</td>\n",
       "    </tr>\n",
       "    <tr>\n",
       "      <th>...</th>\n",
       "      <th>...</th>\n",
       "      <th>...</th>\n",
       "      <td>...</td>\n",
       "    </tr>\n",
       "    <tr>\n",
       "      <th rowspan=\"5\" valign=\"top\">Agency_55</th>\n",
       "      <th rowspan=\"5\" valign=\"top\">SKU_05</th>\n",
       "      <th>2017-08-01</th>\n",
       "      <td>1058.95050</td>\n",
       "    </tr>\n",
       "    <tr>\n",
       "      <th>2017-09-01</th>\n",
       "      <td>909.68025</td>\n",
       "    </tr>\n",
       "    <tr>\n",
       "      <th>2017-10-01</th>\n",
       "      <td>1156.84560</td>\n",
       "    </tr>\n",
       "    <tr>\n",
       "      <th>2017-11-01</th>\n",
       "      <td>902.71500</td>\n",
       "    </tr>\n",
       "    <tr>\n",
       "      <th>2017-12-01</th>\n",
       "      <td>1202.59800</td>\n",
       "    </tr>\n",
       "  </tbody>\n",
       "</table>\n",
       "<p>18900 rows × 1 columns</p>\n",
       "</div>"
      ],
      "text/plain": [
       "                                 volume\n",
       "agency    sku    date                  \n",
       "Agency_01 SKU_01 2013-01-01    80.67600\n",
       "                 2013-02-01    98.06400\n",
       "                 2013-03-01   133.70400\n",
       "                 2013-04-01   147.31200\n",
       "                 2013-05-01   175.60800\n",
       "...                                 ...\n",
       "Agency_55 SKU_05 2017-08-01  1058.95050\n",
       "                 2017-09-01   909.68025\n",
       "                 2017-10-01  1156.84560\n",
       "                 2017-11-01   902.71500\n",
       "                 2017-12-01  1202.59800\n",
       "\n",
       "[18900 rows x 1 columns]"
      ]
     },
     "execution_count": 5,
     "metadata": {},
     "output_type": "execute_result"
    }
   ],
   "source": [
    "y_train"
   ]
  },
  {
   "cell_type": "markdown",
   "metadata": {},
   "source": [
    "`y_test` is the series we want to predict on which contains the last 10% of the time series instances."
   ]
  },
  {
   "cell_type": "code",
   "execution_count": 6,
   "metadata": {},
   "outputs": [
    {
     "data": {
      "text/html": [
       "<div>\n",
       "<style scoped>\n",
       "    .dataframe tbody tr th:only-of-type {\n",
       "        vertical-align: middle;\n",
       "    }\n",
       "\n",
       "    .dataframe tbody tr th {\n",
       "        vertical-align: top;\n",
       "    }\n",
       "\n",
       "    .dataframe thead th {\n",
       "        text-align: right;\n",
       "    }\n",
       "</style>\n",
       "<table border=\"1\" class=\"dataframe\">\n",
       "  <thead>\n",
       "    <tr style=\"text-align: right;\">\n",
       "      <th></th>\n",
       "      <th></th>\n",
       "      <th></th>\n",
       "      <th>volume</th>\n",
       "    </tr>\n",
       "    <tr>\n",
       "      <th>agency</th>\n",
       "      <th>sku</th>\n",
       "      <th>date</th>\n",
       "      <th></th>\n",
       "    </tr>\n",
       "  </thead>\n",
       "  <tbody>\n",
       "    <tr>\n",
       "      <th rowspan=\"5\" valign=\"top\">Agency_56</th>\n",
       "      <th rowspan=\"5\" valign=\"top\">SKU_01</th>\n",
       "      <th>2013-01-01</th>\n",
       "      <td>2999.160</td>\n",
       "    </tr>\n",
       "    <tr>\n",
       "      <th>2013-02-01</th>\n",
       "      <td>3541.212</td>\n",
       "    </tr>\n",
       "    <tr>\n",
       "      <th>2013-03-01</th>\n",
       "      <td>4057.992</td>\n",
       "    </tr>\n",
       "    <tr>\n",
       "      <th>2013-04-01</th>\n",
       "      <td>4152.276</td>\n",
       "    </tr>\n",
       "    <tr>\n",
       "      <th>2013-05-01</th>\n",
       "      <td>4885.488</td>\n",
       "    </tr>\n",
       "    <tr>\n",
       "      <th>...</th>\n",
       "      <th>...</th>\n",
       "      <th>...</th>\n",
       "      <td>...</td>\n",
       "    </tr>\n",
       "    <tr>\n",
       "      <th rowspan=\"5\" valign=\"top\">Agency_60</th>\n",
       "      <th rowspan=\"5\" valign=\"top\">SKU_23</th>\n",
       "      <th>2016-11-01</th>\n",
       "      <td>0.360</td>\n",
       "    </tr>\n",
       "    <tr>\n",
       "      <th>2016-12-01</th>\n",
       "      <td>3.510</td>\n",
       "    </tr>\n",
       "    <tr>\n",
       "      <th>2017-01-01</th>\n",
       "      <td>2.160</td>\n",
       "    </tr>\n",
       "    <tr>\n",
       "      <th>2017-02-01</th>\n",
       "      <td>2.520</td>\n",
       "    </tr>\n",
       "    <tr>\n",
       "      <th>2017-03-01</th>\n",
       "      <td>1.710</td>\n",
       "    </tr>\n",
       "  </tbody>\n",
       "</table>\n",
       "<p>1785 rows × 1 columns</p>\n",
       "</div>"
      ],
      "text/plain": [
       "                               volume\n",
       "agency    sku    date                \n",
       "Agency_56 SKU_01 2013-01-01  2999.160\n",
       "                 2013-02-01  3541.212\n",
       "                 2013-03-01  4057.992\n",
       "                 2013-04-01  4152.276\n",
       "                 2013-05-01  4885.488\n",
       "...                               ...\n",
       "Agency_60 SKU_23 2016-11-01     0.360\n",
       "                 2016-12-01     3.510\n",
       "                 2017-01-01     2.160\n",
       "                 2017-02-01     2.520\n",
       "                 2017-03-01     1.710\n",
       "\n",
       "[1785 rows x 1 columns]"
      ]
     },
     "execution_count": 6,
     "metadata": {},
     "output_type": "execute_result"
    }
   ],
   "source": [
    "y_test"
   ]
  },
  {
   "cell_type": "markdown",
   "metadata": {
    "notebookRunGroups": {
     "groupValue": "2"
    }
   },
   "source": [
    "You can see that `y_train` and `y_test` are different on hierarchical level which indicates that they come from different instances.\n",
    "\n",
    "We can initialize a global forecaster to fit on `y_train` and predict on `y_test`."
   ]
  },
  {
   "cell_type": "code",
   "execution_count": 7,
   "metadata": {},
   "outputs": [],
   "source": [
    "from sktime.forecasting.pytorchforecasting import PytorchForecastingNBeats\n",
    "\n",
    "model = PytorchForecastingNBeats(\n",
    "    trainer_params={\n",
    "        \"max_epochs\": 10,\n",
    "    },\n",
    ")"
   ]
  },
  {
   "cell_type": "code",
   "execution_count": 8,
   "metadata": {},
   "outputs": [
    {
     "name": "stderr",
     "output_type": "stream",
     "text": [
      "GPU available: False, used: False\n",
      "TPU available: False, using: 0 TPU cores\n",
      "HPU available: False, using: 0 HPUs\n",
      "2024-08-27 13:54:49.448367: W tensorflow/stream_executor/platform/default/dso_loader.cc:64] Could not load dynamic library 'libcudart.so.11.0'; dlerror: libcudart.so.11.0: cannot open shared object file: No such file or directory\n",
      "2024-08-27 13:54:49.448434: I tensorflow/stream_executor/cuda/cudart_stub.cc:29] Ignore above cudart dlerror if you do not have a GPU set up on your machine.\n",
      "\n",
      "  | Name            | Type       | Params | Mode \n",
      "-------------------------------------------------------\n",
      "0 | loss            | MASE       | 0      | train\n",
      "1 | logging_metrics | ModuleList | 0      | train\n",
      "2 | net_blocks      | ModuleList | 1.6 M  | train\n",
      "-------------------------------------------------------\n",
      "1.6 M     Trainable params\n",
      "0         Non-trainable params\n",
      "1.6 M     Total params\n",
      "6.588     Total estimated model params size (MB)\n",
      "86        Modules in train mode\n",
      "0         Modules in eval mode\n"
     ]
    },
    {
     "name": "stderr",
     "output_type": "stream",
     "text": [
      "`Trainer.fit` stopped: `max_epochs=10` reached.\n"
     ]
    },
    {
     "data": {
      "text/html": [
       "<style>#sk-aeb9db66-9114-469b-88c9-9efededa906a {\n",
       "    /* Definition of color scheme common for light and dark mode */\n",
       "    --sklearn-color-text: black;\n",
       "    --sklearn-color-line: gray;\n",
       "    /* Definition of color scheme for objects */\n",
       "    --sklearn-color-level-0: #fff5e6;\n",
       "    --sklearn-color-level-1: #f6e4d2;\n",
       "    --sklearn-color-level-2: #ffe0b3;\n",
       "    --sklearn-color-level-3: chocolate;\n",
       "\n",
       "    /* Specific color for light theme */\n",
       "    --sklearn-color-text-on-default-background: var(--theme-code-foreground, var(--jp-content-font-color1, black));\n",
       "    --sklearn-color-background: var(--theme-background, var(--jp-layout-color0, white));\n",
       "    --sklearn-color-border-box: var(--theme-code-foreground, var(--jp-content-font-color1, black));\n",
       "    --sklearn-color-icon: #696969;\n",
       "\n",
       "    @media (prefers-color-scheme: dark) {\n",
       "      /* Redefinition of color scheme for dark theme */\n",
       "      --sklearn-color-text-on-default-background: var(--theme-code-foreground, var(--jp-content-font-color1, white));\n",
       "      --sklearn-color-background: var(--theme-background, var(--jp-layout-color0, #111));\n",
       "      --sklearn-color-border-box: var(--theme-code-foreground, var(--jp-content-font-color1, white));\n",
       "      --sklearn-color-icon: #878787;\n",
       "    }\n",
       "  }\n",
       "\n",
       "  #sk-aeb9db66-9114-469b-88c9-9efededa906a {\n",
       "    color: var(--sklearn-color-text);\n",
       "  }\n",
       "\n",
       "  #sk-aeb9db66-9114-469b-88c9-9efededa906a pre {\n",
       "    padding: 0;\n",
       "  }\n",
       "\n",
       "  #sk-aeb9db66-9114-469b-88c9-9efededa906a input.sk-hidden--visually {\n",
       "    border: 0;\n",
       "    clip: rect(1px 1px 1px 1px);\n",
       "    clip: rect(1px, 1px, 1px, 1px);\n",
       "    height: 1px;\n",
       "    margin: -1px;\n",
       "    overflow: hidden;\n",
       "    padding: 0;\n",
       "    position: absolute;\n",
       "    width: 1px;\n",
       "  }\n",
       "\n",
       "  #sk-aeb9db66-9114-469b-88c9-9efededa906a div.sk-dashed-wrapped {\n",
       "    border: 1px dashed var(--sklearn-color-line);\n",
       "    margin: 0 0.4em 0.5em 0.4em;\n",
       "    box-sizing: border-box;\n",
       "    padding-bottom: 0.4em;\n",
       "    background-color: var(--sklearn-color-background);\n",
       "  }\n",
       "\n",
       "  #sk-aeb9db66-9114-469b-88c9-9efededa906a div.sk-container {\n",
       "    /* jupyter's `normalize.less` sets `[hidden] { display: none; }`\n",
       "       but bootstrap.min.css set `[hidden] { display: none !important; }`\n",
       "       so we also need the `!important` here to be able to override the\n",
       "       default hidden behavior on the sphinx rendered scikit-learn.org.\n",
       "       See: https://github.com/scikit-learn/scikit-learn/issues/21755 */\n",
       "    display: inline-block !important;\n",
       "    position: relative;\n",
       "  }\n",
       "\n",
       "  #sk-aeb9db66-9114-469b-88c9-9efededa906a div.sk-text-repr-fallback {\n",
       "    display: none;\n",
       "  }\n",
       "\n",
       "  div.sk-parallel-item,\n",
       "  div.sk-serial,\n",
       "  div.sk-item {\n",
       "    /* draw centered vertical line to link estimators */\n",
       "    background-image: linear-gradient(var(--sklearn-color-text-on-default-background), var(--sklearn-color-text-on-default-background));\n",
       "    background-size: 2px 100%;\n",
       "    background-repeat: no-repeat;\n",
       "    background-position: center center;\n",
       "  }\n",
       "\n",
       "  /* Parallel-specific style estimator block */\n",
       "\n",
       "  #sk-aeb9db66-9114-469b-88c9-9efededa906a div.sk-parallel-item::after {\n",
       "    content: \"\";\n",
       "    width: 100%;\n",
       "    border-bottom: 2px solid var(--sklearn-color-text-on-default-background);\n",
       "    flex-grow: 1;\n",
       "  }\n",
       "\n",
       "  #sk-aeb9db66-9114-469b-88c9-9efededa906a div.sk-parallel {\n",
       "    display: flex;\n",
       "    align-items: stretch;\n",
       "    justify-content: center;\n",
       "    background-color: var(--sklearn-color-background);\n",
       "    position: relative;\n",
       "  }\n",
       "\n",
       "  #sk-aeb9db66-9114-469b-88c9-9efededa906a div.sk-parallel-item {\n",
       "    display: flex;\n",
       "    flex-direction: column;\n",
       "  }\n",
       "\n",
       "  #sk-aeb9db66-9114-469b-88c9-9efededa906a div.sk-parallel-item:first-child::after {\n",
       "    align-self: flex-end;\n",
       "    width: 50%;\n",
       "  }\n",
       "\n",
       "  #sk-aeb9db66-9114-469b-88c9-9efededa906a div.sk-parallel-item:last-child::after {\n",
       "    align-self: flex-start;\n",
       "    width: 50%;\n",
       "  }\n",
       "\n",
       "  #sk-aeb9db66-9114-469b-88c9-9efededa906a div.sk-parallel-item:only-child::after {\n",
       "    width: 0;\n",
       "  }\n",
       "\n",
       "  /* Serial-specific style estimator block */\n",
       "\n",
       "  #sk-aeb9db66-9114-469b-88c9-9efededa906a div.sk-serial {\n",
       "    display: flex;\n",
       "    flex-direction: column;\n",
       "    align-items: center;\n",
       "    background-color: var(--sklearn-color-background);\n",
       "    padding-right: 1em;\n",
       "    padding-left: 1em;\n",
       "  }\n",
       "\n",
       "\n",
       "  /* Toggleable style: style used for estimator/Pipeline/ColumnTransformer box that is\n",
       "  clickable and can be expanded/collapsed.\n",
       "  - Pipeline and ColumnTransformer use this feature and define the default style\n",
       "  - Estimators will overwrite some part of the style using the `sk-estimator` class\n",
       "  */\n",
       "\n",
       "  /* Pipeline and ColumnTransformer style (default) */\n",
       "\n",
       "  #sk-aeb9db66-9114-469b-88c9-9efededa906a div.sk-toggleable {\n",
       "    /* Default theme specific background. It is overwritten whether we have a\n",
       "    specific estimator or a Pipeline/ColumnTransformer */\n",
       "    background-color: var(--sklearn-color-background);\n",
       "  }\n",
       "\n",
       "  /* Toggleable label */\n",
       "  #sk-aeb9db66-9114-469b-88c9-9efededa906a label.sk-toggleable__label {\n",
       "    cursor: pointer;\n",
       "    display: block;\n",
       "    width: 100%;\n",
       "    margin-bottom: 0;\n",
       "    padding: 0.5em;\n",
       "    box-sizing: border-box;\n",
       "    text-align: center;\n",
       "  }\n",
       "\n",
       "  #sk-aeb9db66-9114-469b-88c9-9efededa906a label.sk-toggleable__label-arrow:before {\n",
       "    /* Arrow on the left of the label */\n",
       "    content: \"▸\";\n",
       "    float: left;\n",
       "    margin-right: 0.25em;\n",
       "    color: var(--sklearn-color-icon);\n",
       "  }\n",
       "\n",
       "  #sk-aeb9db66-9114-469b-88c9-9efededa906a label.sk-toggleable__label-arrow:hover:before {\n",
       "    color: var(--sklearn-color-text);\n",
       "  }\n",
       "\n",
       "  /* Toggleable content - dropdown */\n",
       "\n",
       "  #sk-aeb9db66-9114-469b-88c9-9efededa906a div.sk-toggleable__content {\n",
       "    max-height: 0;\n",
       "    max-width: 0;\n",
       "    overflow: hidden;\n",
       "    text-align: left;\n",
       "    background-color: var(--sklearn-color-level-0);\n",
       "  }\n",
       "\n",
       "  #sk-aeb9db66-9114-469b-88c9-9efededa906a div.sk-toggleable__content pre {\n",
       "    margin: 0.2em;\n",
       "    border-radius: 0.25em;\n",
       "    color: var(--sklearn-color-text);\n",
       "    background-color: var(--sklearn-color-level-0);\n",
       "  }\n",
       "\n",
       "  #sk-aeb9db66-9114-469b-88c9-9efededa906a input.sk-toggleable__control:checked~div.sk-toggleable__content {\n",
       "    /* Expand drop-down */\n",
       "    max-height: 200px;\n",
       "    max-width: 100%;\n",
       "    overflow: auto;\n",
       "  }\n",
       "\n",
       "  #sk-aeb9db66-9114-469b-88c9-9efededa906a input.sk-toggleable__control:checked~label.sk-toggleable__label-arrow:before {\n",
       "    content: \"▾\";\n",
       "  }\n",
       "\n",
       "  /* Pipeline/ColumnTransformer-specific style */\n",
       "\n",
       "  #sk-aeb9db66-9114-469b-88c9-9efededa906a div.sk-label input.sk-toggleable__control:checked~label.sk-toggleable__label {\n",
       "    color: var(--sklearn-color-text);\n",
       "    background-color: var(--sklearn-color-level-2);\n",
       "  }\n",
       "\n",
       "  /* Estimator-specific style */\n",
       "\n",
       "  /* Colorize estimator box */\n",
       "  #sk-aeb9db66-9114-469b-88c9-9efededa906a div.sk-estimator input.sk-toggleable__control:checked~label.sk-toggleable__label {\n",
       "    /* unfitted */\n",
       "    background-color: var(--sklearn-color-level-2);\n",
       "  }\n",
       "\n",
       "  #sk-aeb9db66-9114-469b-88c9-9efededa906a div.sk-label label.sk-toggleable__label,\n",
       "  #sk-aeb9db66-9114-469b-88c9-9efededa906a div.sk-label label {\n",
       "    /* The background is the default theme color */\n",
       "    color: var(--sklearn-color-text-on-default-background);\n",
       "  }\n",
       "\n",
       "  /* On hover, darken the color of the background */\n",
       "  #sk-aeb9db66-9114-469b-88c9-9efededa906a div.sk-label:hover label.sk-toggleable__label {\n",
       "    color: var(--sklearn-color-text);\n",
       "    background-color: var(--sklearn-color-level-2);\n",
       "  }\n",
       "\n",
       "  /* Estimator label */\n",
       "\n",
       "  #sk-aeb9db66-9114-469b-88c9-9efededa906a div.sk-label label {\n",
       "    font-family: monospace;\n",
       "    font-weight: bold;\n",
       "    display: inline-block;\n",
       "    line-height: 1.2em;\n",
       "  }\n",
       "\n",
       "  #sk-aeb9db66-9114-469b-88c9-9efededa906a div.sk-label-container {\n",
       "    text-align: center;\n",
       "  }\n",
       "\n",
       "  /* Estimator-specific */\n",
       "  #sk-aeb9db66-9114-469b-88c9-9efededa906a div.sk-estimator {\n",
       "    font-family: monospace;\n",
       "    border: 1px dotted var(--sklearn-color-border-box);\n",
       "    border-radius: 0.25em;\n",
       "    box-sizing: border-box;\n",
       "    margin-bottom: 0.5em;\n",
       "    background-color: var(--sklearn-color-level-0);\n",
       "  }\n",
       "\n",
       "  /* on hover */\n",
       "  #sk-aeb9db66-9114-469b-88c9-9efededa906a div.sk-estimator:hover {\n",
       "    background-color: var(--sklearn-color-level-2);\n",
       "  }\n",
       "\n",
       "  /* Specification for estimator info */\n",
       "\n",
       "  .sk-estimator-doc-link,\n",
       "  a:link.sk-estimator-doc-link,\n",
       "  a:visited.sk-estimator-doc-link {\n",
       "    float: right;\n",
       "    font-size: smaller;\n",
       "    line-height: 1em;\n",
       "    font-family: monospace;\n",
       "    background-color: var(--sklearn-color-background);\n",
       "    border-radius: 1em;\n",
       "    height: 1em;\n",
       "    width: 1em;\n",
       "    text-decoration: none !important;\n",
       "    margin-left: 1ex;\n",
       "    border: var(--sklearn-color-level-1) 1pt solid;\n",
       "    color: var(--sklearn-color-level-1);\n",
       "  }\n",
       "\n",
       "  /* On hover */\n",
       "  div.sk-estimator:hover .sk-estimator-doc-link:hover,\n",
       "  .sk-estimator-doc-link:hover,\n",
       "  div.sk-label-container:hover .sk-estimator-doc-link:hover,\n",
       "  .sk-estimator-doc-link:hover {\n",
       "    background-color: var(--sklearn-color-level-3);\n",
       "    color: var(--sklearn-color-background);\n",
       "    text-decoration: none;\n",
       "  }\n",
       "\n",
       "  /* Span, style for the box shown on hovering the info icon */\n",
       "  .sk-estimator-doc-link span {\n",
       "    display: none;\n",
       "    z-index: 9999;\n",
       "    position: relative;\n",
       "    font-weight: normal;\n",
       "    right: .2ex;\n",
       "    padding: .5ex;\n",
       "    margin: .5ex;\n",
       "    width: min-content;\n",
       "    min-width: 20ex;\n",
       "    max-width: 50ex;\n",
       "    color: var(--sklearn-color-text);\n",
       "    box-shadow: 2pt 2pt 4pt #999;\n",
       "    background: var(--sklearn-color-level-0);\n",
       "    border: .5pt solid var(--sklearn-color-level-3);\n",
       "  }\n",
       "\n",
       "  .sk-estimator-doc-link:hover span {\n",
       "    display: block;\n",
       "  }\n",
       "\n",
       "  /* \"?\"-specific style due to the `<a>` HTML tag */\n",
       "\n",
       "  #sk-aeb9db66-9114-469b-88c9-9efededa906a a.estimator_doc_link {\n",
       "    float: right;\n",
       "    font-size: 1rem;\n",
       "    line-height: 1em;\n",
       "    font-family: monospace;\n",
       "    background-color: var(--sklearn-color-background);\n",
       "    border-radius: 1rem;\n",
       "    height: 1rem;\n",
       "    width: 1rem;\n",
       "    text-decoration: none;\n",
       "    color: var(--sklearn-color-level-1);\n",
       "    border: var(--sklearn-color-level-1) 1pt solid;\n",
       "  }\n",
       "\n",
       "  /* On hover */\n",
       "  #sk-aeb9db66-9114-469b-88c9-9efededa906a a.estimator_doc_link:hover {\n",
       "    background-color: var(--sklearn-color-level-3);\n",
       "    color: var(--sklearn-color-background);\n",
       "    text-decoration: none;\n",
       "  }\n",
       "</style><div id='sk-aeb9db66-9114-469b-88c9-9efededa906a' class=\"sk-top-container\"><div class=\"sk-text-repr-fallback\"><pre>PytorchForecastingNBeats(trainer_params={&#x27;max_epochs&#x27;: 10})</pre><b>Please rerun this cell to show the HTML repr or trust the notebook.</b></div><div class=\"sk-container\" hidden><div class='sk-item'><div class=\"sk-estimator sk-toggleable\"><input class=\"sk-toggleable__control sk-hidden--visually\" id=UUID('99252edb-9d63-45ae-8b49-079cceaf4c64') type=\"checkbox\" checked><label for=UUID('99252edb-9d63-45ae-8b49-079cceaf4c64') class='sk-toggleable__label sk-toggleable__label-arrow'>PytorchForecastingNBeats<a class=\"sk-estimator-doc-link\" rel=\"noreferrer\" target=\"_blank\" href=\"https://www.sktime.net/en/v0.32.2/api_reference/auto_generated/sktime.forecasting.pytorchforecasting.PytorchForecastingNBeats.html\">?<span>Documentation for PytorchForecastingNBeats</span></a></label><div class=\"sk-toggleable__content\"><pre>PytorchForecastingNBeats(trainer_params={&#x27;max_epochs&#x27;: 10})</pre></div></div></div></div></div>"
      ],
      "text/plain": [
       "PytorchForecastingNBeats(trainer_params={'max_epochs': 10})"
      ]
     },
     "execution_count": 8,
     "metadata": {},
     "output_type": "execute_result"
    }
   ],
   "source": [
    "# This could take 1 min to fit the data\n",
    "model.fit(y=y_train, fh=fh)"
   ]
  },
  {
   "cell_type": "markdown",
   "metadata": {},
   "source": [
    "Then we can predict on `y_test` which is not included in `y_train`."
   ]
  },
  {
   "cell_type": "code",
   "execution_count": 9,
   "metadata": {},
   "outputs": [
    {
     "name": "stderr",
     "output_type": "stream",
     "text": [
      "GPU available: False, used: False\n",
      "TPU available: False, using: 0 TPU cores\n",
      "HPU available: False, using: 0 HPUs\n"
     ]
    },
    {
     "data": {
      "text/html": [
       "<div>\n",
       "<style scoped>\n",
       "    .dataframe tbody tr th:only-of-type {\n",
       "        vertical-align: middle;\n",
       "    }\n",
       "\n",
       "    .dataframe tbody tr th {\n",
       "        vertical-align: top;\n",
       "    }\n",
       "\n",
       "    .dataframe thead th {\n",
       "        text-align: right;\n",
       "    }\n",
       "</style>\n",
       "<table border=\"1\" class=\"dataframe\">\n",
       "  <thead>\n",
       "    <tr style=\"text-align: right;\">\n",
       "      <th></th>\n",
       "      <th></th>\n",
       "      <th></th>\n",
       "      <th>volume</th>\n",
       "    </tr>\n",
       "    <tr>\n",
       "      <th>agency</th>\n",
       "      <th>sku</th>\n",
       "      <th>date</th>\n",
       "      <th></th>\n",
       "    </tr>\n",
       "  </thead>\n",
       "  <tbody>\n",
       "    <tr>\n",
       "      <th rowspan=\"5\" valign=\"top\">Agency_56</th>\n",
       "      <th rowspan=\"5\" valign=\"top\">SKU_01</th>\n",
       "      <th>2017-04-01</th>\n",
       "      <td>3524.992432</td>\n",
       "    </tr>\n",
       "    <tr>\n",
       "      <th>2017-05-01</th>\n",
       "      <td>3441.356934</td>\n",
       "    </tr>\n",
       "    <tr>\n",
       "      <th>2017-06-01</th>\n",
       "      <td>3593.567139</td>\n",
       "    </tr>\n",
       "    <tr>\n",
       "      <th>2017-07-01</th>\n",
       "      <td>3875.251465</td>\n",
       "    </tr>\n",
       "    <tr>\n",
       "      <th>2017-08-01</th>\n",
       "      <td>4096.291504</td>\n",
       "    </tr>\n",
       "    <tr>\n",
       "      <th>...</th>\n",
       "      <th>...</th>\n",
       "      <th>...</th>\n",
       "      <td>...</td>\n",
       "    </tr>\n",
       "    <tr>\n",
       "      <th rowspan=\"5\" valign=\"top\">Agency_60</th>\n",
       "      <th rowspan=\"5\" valign=\"top\">SKU_23</th>\n",
       "      <th>2017-08-01</th>\n",
       "      <td>1.427512</td>\n",
       "    </tr>\n",
       "    <tr>\n",
       "      <th>2017-09-01</th>\n",
       "      <td>1.251718</td>\n",
       "    </tr>\n",
       "    <tr>\n",
       "      <th>2017-10-01</th>\n",
       "      <td>1.173882</td>\n",
       "    </tr>\n",
       "    <tr>\n",
       "      <th>2017-11-01</th>\n",
       "      <td>1.335045</td>\n",
       "    </tr>\n",
       "    <tr>\n",
       "      <th>2017-12-01</th>\n",
       "      <td>1.789276</td>\n",
       "    </tr>\n",
       "  </tbody>\n",
       "</table>\n",
       "<p>315 rows × 1 columns</p>\n",
       "</div>"
      ],
      "text/plain": [
       "                                  volume\n",
       "agency    sku    date                   \n",
       "Agency_56 SKU_01 2017-04-01  3524.992432\n",
       "                 2017-05-01  3441.356934\n",
       "                 2017-06-01  3593.567139\n",
       "                 2017-07-01  3875.251465\n",
       "                 2017-08-01  4096.291504\n",
       "...                                  ...\n",
       "Agency_60 SKU_23 2017-08-01     1.427512\n",
       "                 2017-09-01     1.251718\n",
       "                 2017-10-01     1.173882\n",
       "                 2017-11-01     1.335045\n",
       "                 2017-12-01     1.789276\n",
       "\n",
       "[315 rows x 1 columns]"
      ]
     },
     "execution_count": 9,
     "metadata": {},
     "output_type": "execute_result"
    }
   ],
   "source": [
    "y_pred = model.predict(y=y_test, fh=fh)\n",
    "y_pred"
   ]
  },
  {
   "cell_type": "markdown",
   "metadata": {},
   "source": [
    "`y_pred` have the same instance index as `y_test`."
   ]
  },
  {
   "cell_type": "markdown",
   "metadata": {},
   "source": [
    "We can plot one series to see the result. As we train the model for a few epochs, we can not expect too much."
   ]
  },
  {
   "cell_type": "code",
   "execution_count": 10,
   "metadata": {},
   "outputs": [
    {
     "data": {
      "text/plain": [
       "(<Figure size 1600x400 with 1 Axes>, <Axes: ylabel='volume'>)"
      ]
     },
     "execution_count": 10,
     "metadata": {},
     "output_type": "execute_result"
    },
    {
     "data": {
      "image/png": "[encoded data removed]",
      "text/plain": [
       "<Figure size 1600x400 with 1 Axes>"
      ]
     },
     "metadata": {},
     "output_type": "display_data"
    }
   ],
   "source": [
    "from sktime.utils.plotting import plot_series\n",
    "ins=(\"Agency_59\",\"SKU_04\")\n",
    "plot_series(\n",
    "    y_test.loc[ins],\n",
    "    y_pred.loc[ins],\n",
    "    y_true.loc[ins],\n",
    "    labels=[\"y\", \"y_pred\", \"y_true\"],\n",
    ")"
   ]
  },
  {
   "cell_type": "markdown",
   "metadata": {},
   "source": [
    "#### Global Forecasting with exogeneous data\n",
    "\n",
    "Then let's try to fit and predict with exogeneous data"
   ]
  },
  {
   "cell_type": "markdown",
   "metadata": {},
   "source": [
    "When we predict with exogeneous data, we need to pass both `X` and `y` to `predict`.\n",
    "\n",
    "`X` must contain all historical values and the time points to be predicted while `y` should only contain the historical values but not the time points to be predicted."
   ]
  },
  {
   "cell_type": "code",
   "execution_count": 11,
   "metadata": {},
   "outputs": [],
   "source": [
    "X_train, X_test, y_train, y_test = train_test_split(\n",
    "    X, y, test_size=0.1, train_size=0.9, shuffle=False\n",
    ")\n",
    "y_true = y_test.groupby(level=[0,1]).apply(lambda x: x.droplevel([0,1]).iloc[-max(fh):])\n",
    "y_test = y_test.groupby(level=[0,1]).apply(lambda x: x.droplevel([0,1]).iloc[:-max(fh)])"
   ]
  },
  {
   "cell_type": "markdown",
   "metadata": {},
   "source": [
    "`X_train` and `y_train` have the same time index from 2000-01-01 to 2000-01-10.\n",
    "\n",
    "However `y_test` is shorter than `X_test`. \n",
    "\n",
    "`X_test` has the time index from 2013-01-01 to 2017-12-01 but `y_test` only has the time index from 2013-01-01 to 2017-03-01. \n",
    "\n",
    "This is because we don't know the values from 2017-4-01 to 2017-12-01 of `y_test` which are going to be forecasted."
   ]
  },
  {
   "cell_type": "code",
   "execution_count": 12,
   "metadata": {},
   "outputs": [
    {
     "data": {
      "text/html": [
       "<div>\n",
       "<style scoped>\n",
       "    .dataframe tbody tr th:only-of-type {\n",
       "        vertical-align: middle;\n",
       "    }\n",
       "\n",
       "    .dataframe tbody tr th {\n",
       "        vertical-align: top;\n",
       "    }\n",
       "\n",
       "    .dataframe thead th {\n",
       "        text-align: right;\n",
       "    }\n",
       "</style>\n",
       "<table border=\"1\" class=\"dataframe\">\n",
       "  <thead>\n",
       "    <tr style=\"text-align: right;\">\n",
       "      <th></th>\n",
       "      <th></th>\n",
       "      <th></th>\n",
       "      <th>volume</th>\n",
       "    </tr>\n",
       "    <tr>\n",
       "      <th>agency</th>\n",
       "      <th>sku</th>\n",
       "      <th>date</th>\n",
       "      <th></th>\n",
       "    </tr>\n",
       "  </thead>\n",
       "  <tbody>\n",
       "    <tr>\n",
       "      <th rowspan=\"5\" valign=\"top\">Agency_56</th>\n",
       "      <th rowspan=\"5\" valign=\"top\">SKU_01</th>\n",
       "      <th>2013-01-01</th>\n",
       "      <td>2999.160</td>\n",
       "    </tr>\n",
       "    <tr>\n",
       "      <th>2013-02-01</th>\n",
       "      <td>3541.212</td>\n",
       "    </tr>\n",
       "    <tr>\n",
       "      <th>2013-03-01</th>\n",
       "      <td>4057.992</td>\n",
       "    </tr>\n",
       "    <tr>\n",
       "      <th>2013-04-01</th>\n",
       "      <td>4152.276</td>\n",
       "    </tr>\n",
       "    <tr>\n",
       "      <th>2013-05-01</th>\n",
       "      <td>4885.488</td>\n",
       "    </tr>\n",
       "    <tr>\n",
       "      <th>...</th>\n",
       "      <th>...</th>\n",
       "      <th>...</th>\n",
       "      <td>...</td>\n",
       "    </tr>\n",
       "    <tr>\n",
       "      <th rowspan=\"5\" valign=\"top\">Agency_60</th>\n",
       "      <th rowspan=\"5\" valign=\"top\">SKU_23</th>\n",
       "      <th>2016-11-01</th>\n",
       "      <td>0.360</td>\n",
       "    </tr>\n",
       "    <tr>\n",
       "      <th>2016-12-01</th>\n",
       "      <td>3.510</td>\n",
       "    </tr>\n",
       "    <tr>\n",
       "      <th>2017-01-01</th>\n",
       "      <td>2.160</td>\n",
       "    </tr>\n",
       "    <tr>\n",
       "      <th>2017-02-01</th>\n",
       "      <td>2.520</td>\n",
       "    </tr>\n",
       "    <tr>\n",
       "      <th>2017-03-01</th>\n",
       "      <td>1.710</td>\n",
       "    </tr>\n",
       "  </tbody>\n",
       "</table>\n",
       "<p>1785 rows × 1 columns</p>\n",
       "</div>"
      ],
      "text/plain": [
       "                               volume\n",
       "agency    sku    date                \n",
       "Agency_56 SKU_01 2013-01-01  2999.160\n",
       "                 2013-02-01  3541.212\n",
       "                 2013-03-01  4057.992\n",
       "                 2013-04-01  4152.276\n",
       "                 2013-05-01  4885.488\n",
       "...                               ...\n",
       "Agency_60 SKU_23 2016-11-01     0.360\n",
       "                 2016-12-01     3.510\n",
       "                 2017-01-01     2.160\n",
       "                 2017-02-01     2.520\n",
       "                 2017-03-01     1.710\n",
       "\n",
       "[1785 rows x 1 columns]"
      ]
     },
     "execution_count": 12,
     "metadata": {},
     "output_type": "execute_result"
    }
   ],
   "source": [
    "y_test"
   ]
  },
  {
   "cell_type": "code",
   "execution_count": 13,
   "metadata": {},
   "outputs": [
    {
     "name": "stderr",
     "output_type": "stream",
     "text": [
      "GPU available: False, used: False\n",
      "TPU available: False, using: 0 TPU cores\n",
      "HPU available: False, using: 0 HPUs\n",
      "\n",
      "  | Name            | Type           | Params | Mode \n",
      "-----------------------------------------------------------\n",
      "0 | loss            | MASE           | 0      | train\n",
      "1 | logging_metrics | ModuleList     | 0      | train\n",
      "2 | embeddings      | MultiEmbedding | 0      | train\n",
      "3 | model           | NHiTS          | 2.0 M  | train\n",
      "-----------------------------------------------------------\n",
      "2.0 M     Trainable params\n",
      "0         Non-trainable params\n",
      "2.0 M     Total params\n",
      "8.033     Total estimated model params size (MB)\n",
      "35        Modules in train mode\n",
      "0         Modules in eval mode\n"
     ]
    },
    {
     "name": "stderr",
     "output_type": "stream",
     "text": [
      "`Trainer.fit` stopped: `max_epochs=10` reached.\n"
     ]
    },
    {
     "data": {
      "text/html": [
       "<style>#sk-3e60962c-ae17-40f6-a1e9-6d9b35bf69a9 {\n",
       "    /* Definition of color scheme common for light and dark mode */\n",
       "    --sklearn-color-text: black;\n",
       "    --sklearn-color-line: gray;\n",
       "    /* Definition of color scheme for objects */\n",
       "    --sklearn-color-level-0: #fff5e6;\n",
       "    --sklearn-color-level-1: #f6e4d2;\n",
       "    --sklearn-color-level-2: #ffe0b3;\n",
       "    --sklearn-color-level-3: chocolate;\n",
       "\n",
       "    /* Specific color for light theme */\n",
       "    --sklearn-color-text-on-default-background: var(--theme-code-foreground, var(--jp-content-font-color1, black));\n",
       "    --sklearn-color-background: var(--theme-background, var(--jp-layout-color0, white));\n",
       "    --sklearn-color-border-box: var(--theme-code-foreground, var(--jp-content-font-color1, black));\n",
       "    --sklearn-color-icon: #696969;\n",
       "\n",
       "    @media (prefers-color-scheme: dark) {\n",
       "      /* Redefinition of color scheme for dark theme */\n",
       "      --sklearn-color-text-on-default-background: var(--theme-code-foreground, var(--jp-content-font-color1, white));\n",
       "      --sklearn-color-background: var(--theme-background, var(--jp-layout-color0, #111));\n",
       "      --sklearn-color-border-box: var(--theme-code-foreground, var(--jp-content-font-color1, white));\n",
       "      --sklearn-color-icon: #878787;\n",
       "    }\n",
       "  }\n",
       "\n",
       "  #sk-3e60962c-ae17-40f6-a1e9-6d9b35bf69a9 {\n",
       "    color: var(--sklearn-color-text);\n",
       "  }\n",
       "\n",
       "  #sk-3e60962c-ae17-40f6-a1e9-6d9b35bf69a9 pre {\n",
       "    padding: 0;\n",
       "  }\n",
       "\n",
       "  #sk-3e60962c-ae17-40f6-a1e9-6d9b35bf69a9 input.sk-hidden--visually {\n",
       "    border: 0;\n",
       "    clip: rect(1px 1px 1px 1px);\n",
       "    clip: rect(1px, 1px, 1px, 1px);\n",
       "    height: 1px;\n",
       "    margin: -1px;\n",
       "    overflow: hidden;\n",
       "    padding: 0;\n",
       "    position: absolute;\n",
       "    width: 1px;\n",
       "  }\n",
       "\n",
       "  #sk-3e60962c-ae17-40f6-a1e9-6d9b35bf69a9 div.sk-dashed-wrapped {\n",
       "    border: 1px dashed var(--sklearn-color-line);\n",
       "    margin: 0 0.4em 0.5em 0.4em;\n",
       "    box-sizing: border-box;\n",
       "    padding-bottom: 0.4em;\n",
       "    background-color: var(--sklearn-color-background);\n",
       "  }\n",
       "\n",
       "  #sk-3e60962c-ae17-40f6-a1e9-6d9b35bf69a9 div.sk-container {\n",
       "    /* jupyter's `normalize.less` sets `[hidden] { display: none; }`\n",
       "       but bootstrap.min.css set `[hidden] { display: none !important; }`\n",
       "       so we also need the `!important` here to be able to override the\n",
       "       default hidden behavior on the sphinx rendered scikit-learn.org.\n",
       "       See: https://github.com/scikit-learn/scikit-learn/issues/21755 */\n",
       "    display: inline-block !important;\n",
       "    position: relative;\n",
       "  }\n",
       "\n",
       "  #sk-3e60962c-ae17-40f6-a1e9-6d9b35bf69a9 div.sk-text-repr-fallback {\n",
       "    display: none;\n",
       "  }\n",
       "\n",
       "  div.sk-parallel-item,\n",
       "  div.sk-serial,\n",
       "  div.sk-item {\n",
       "    /* draw centered vertical line to link estimators */\n",
       "    background-image: linear-gradient(var(--sklearn-color-text-on-default-background), var(--sklearn-color-text-on-default-background));\n",
       "    background-size: 2px 100%;\n",
       "    background-repeat: no-repeat;\n",
       "    background-position: center center;\n",
       "  }\n",
       "\n",
       "  /* Parallel-specific style estimator block */\n",
       "\n",
       "  #sk-3e60962c-ae17-40f6-a1e9-6d9b35bf69a9 div.sk-parallel-item::after {\n",
       "    content: \"\";\n",
       "    width: 100%;\n",
       "    border-bottom: 2px solid var(--sklearn-color-text-on-default-background);\n",
       "    flex-grow: 1;\n",
       "  }\n",
       "\n",
       "  #sk-3e60962c-ae17-40f6-a1e9-6d9b35bf69a9 div.sk-parallel {\n",
       "    display: flex;\n",
       "    align-items: stretch;\n",
       "    justify-content: center;\n",
       "    background-color: var(--sklearn-color-background);\n",
       "    position: relative;\n",
       "  }\n",
       "\n",
       "  #sk-3e60962c-ae17-40f6-a1e9-6d9b35bf69a9 div.sk-parallel-item {\n",
       "    display: flex;\n",
       "    flex-direction: column;\n",
       "  }\n",
       "\n",
       "  #sk-3e60962c-ae17-40f6-a1e9-6d9b35bf69a9 div.sk-parallel-item:first-child::after {\n",
       "    align-self: flex-end;\n",
       "    width: 50%;\n",
       "  }\n",
       "\n",
       "  #sk-3e60962c-ae17-40f6-a1e9-6d9b35bf69a9 div.sk-parallel-item:last-child::after {\n",
       "    align-self: flex-start;\n",
       "    width: 50%;\n",
       "  }\n",
       "\n",
       "  #sk-3e60962c-ae17-40f6-a1e9-6d9b35bf69a9 div.sk-parallel-item:only-child::after {\n",
       "    width: 0;\n",
       "  }\n",
       "\n",
       "  /* Serial-specific style estimator block */\n",
       "\n",
       "  #sk-3e60962c-ae17-40f6-a1e9-6d9b35bf69a9 div.sk-serial {\n",
       "    display: flex;\n",
       "    flex-direction: column;\n",
       "    align-items: center;\n",
       "    background-color: var(--sklearn-color-background);\n",
       "    padding-right: 1em;\n",
       "    padding-left: 1em;\n",
       "  }\n",
       "\n",
       "\n",
       "  /* Toggleable style: style used for estimator/Pipeline/ColumnTransformer box that is\n",
       "  clickable and can be expanded/collapsed.\n",
       "  - Pipeline and ColumnTransformer use this feature and define the default style\n",
       "  - Estimators will overwrite some part of the style using the `sk-estimator` class\n",
       "  */\n",
       "\n",
       "  /* Pipeline and ColumnTransformer style (default) */\n",
       "\n",
       "  #sk-3e60962c-ae17-40f6-a1e9-6d9b35bf69a9 div.sk-toggleable {\n",
       "    /* Default theme specific background. It is overwritten whether we have a\n",
       "    specific estimator or a Pipeline/ColumnTransformer */\n",
       "    background-color: var(--sklearn-color-background);\n",
       "  }\n",
       "\n",
       "  /* Toggleable label */\n",
       "  #sk-3e60962c-ae17-40f6-a1e9-6d9b35bf69a9 label.sk-toggleable__label {\n",
       "    cursor: pointer;\n",
       "    display: block;\n",
       "    width: 100%;\n",
       "    margin-bottom: 0;\n",
       "    padding: 0.5em;\n",
       "    box-sizing: border-box;\n",
       "    text-align: center;\n",
       "  }\n",
       "\n",
       "  #sk-3e60962c-ae17-40f6-a1e9-6d9b35bf69a9 label.sk-toggleable__label-arrow:before {\n",
       "    /* Arrow on the left of the label */\n",
       "    content: \"▸\";\n",
       "    float: left;\n",
       "    margin-right: 0.25em;\n",
       "    color: var(--sklearn-color-icon);\n",
       "  }\n",
       "\n",
       "  #sk-3e60962c-ae17-40f6-a1e9-6d9b35bf69a9 label.sk-toggleable__label-arrow:hover:before {\n",
       "    color: var(--sklearn-color-text);\n",
       "  }\n",
       "\n",
       "  /* Toggleable content - dropdown */\n",
       "\n",
       "  #sk-3e60962c-ae17-40f6-a1e9-6d9b35bf69a9 div.sk-toggleable__content {\n",
       "    max-height: 0;\n",
       "    max-width: 0;\n",
       "    overflow: hidden;\n",
       "    text-align: left;\n",
       "    background-color: var(--sklearn-color-level-0);\n",
       "  }\n",
       "\n",
       "  #sk-3e60962c-ae17-40f6-a1e9-6d9b35bf69a9 div.sk-toggleable__content pre {\n",
       "    margin: 0.2em;\n",
       "    border-radius: 0.25em;\n",
       "    color: var(--sklearn-color-text);\n",
       "    background-color: var(--sklearn-color-level-0);\n",
       "  }\n",
       "\n",
       "  #sk-3e60962c-ae17-40f6-a1e9-6d9b35bf69a9 input.sk-toggleable__control:checked~div.sk-toggleable__content {\n",
       "    /* Expand drop-down */\n",
       "    max-height: 200px;\n",
       "    max-width: 100%;\n",
       "    overflow: auto;\n",
       "  }\n",
       "\n",
       "  #sk-3e60962c-ae17-40f6-a1e9-6d9b35bf69a9 input.sk-toggleable__control:checked~label.sk-toggleable__label-arrow:before {\n",
       "    content: \"▾\";\n",
       "  }\n",
       "\n",
       "  /* Pipeline/ColumnTransformer-specific style */\n",
       "\n",
       "  #sk-3e60962c-ae17-40f6-a1e9-6d9b35bf69a9 div.sk-label input.sk-toggleable__control:checked~label.sk-toggleable__label {\n",
       "    color: var(--sklearn-color-text);\n",
       "    background-color: var(--sklearn-color-level-2);\n",
       "  }\n",
       "\n",
       "  /* Estimator-specific style */\n",
       "\n",
       "  /* Colorize estimator box */\n",
       "  #sk-3e60962c-ae17-40f6-a1e9-6d9b35bf69a9 div.sk-estimator input.sk-toggleable__control:checked~label.sk-toggleable__label {\n",
       "    /* unfitted */\n",
       "    background-color: var(--sklearn-color-level-2);\n",
       "  }\n",
       "\n",
       "  #sk-3e60962c-ae17-40f6-a1e9-6d9b35bf69a9 div.sk-label label.sk-toggleable__label,\n",
       "  #sk-3e60962c-ae17-40f6-a1e9-6d9b35bf69a9 div.sk-label label {\n",
       "    /* The background is the default theme color */\n",
       "    color: var(--sklearn-color-text-on-default-background);\n",
       "  }\n",
       "\n",
       "  /* On hover, darken the color of the background */\n",
       "  #sk-3e60962c-ae17-40f6-a1e9-6d9b35bf69a9 div.sk-label:hover label.sk-toggleable__label {\n",
       "    color: var(--sklearn-color-text);\n",
       "    background-color: var(--sklearn-color-level-2);\n",
       "  }\n",
       "\n",
       "  /* Estimator label */\n",
       "\n",
       "  #sk-3e60962c-ae17-40f6-a1e9-6d9b35bf69a9 div.sk-label label {\n",
       "    font-family: monospace;\n",
       "    font-weight: bold;\n",
       "    display: inline-block;\n",
       "    line-height: 1.2em;\n",
       "  }\n",
       "\n",
       "  #sk-3e60962c-ae17-40f6-a1e9-6d9b35bf69a9 div.sk-label-container {\n",
       "    text-align: center;\n",
       "  }\n",
       "\n",
       "  /* Estimator-specific */\n",
       "  #sk-3e60962c-ae17-40f6-a1e9-6d9b35bf69a9 div.sk-estimator {\n",
       "    font-family: monospace;\n",
       "    border: 1px dotted var(--sklearn-color-border-box);\n",
       "    border-radius: 0.25em;\n",
       "    box-sizing: border-box;\n",
       "    margin-bottom: 0.5em;\n",
       "    background-color: var(--sklearn-color-level-0);\n",
       "  }\n",
       "\n",
       "  /* on hover */\n",
       "  #sk-3e60962c-ae17-40f6-a1e9-6d9b35bf69a9 div.sk-estimator:hover {\n",
       "    background-color: var(--sklearn-color-level-2);\n",
       "  }\n",
       "\n",
       "  /* Specification for estimator info */\n",
       "\n",
       "  .sk-estimator-doc-link,\n",
       "  a:link.sk-estimator-doc-link,\n",
       "  a:visited.sk-estimator-doc-link {\n",
       "    float: right;\n",
       "    font-size: smaller;\n",
       "    line-height: 1em;\n",
       "    font-family: monospace;\n",
       "    background-color: var(--sklearn-color-background);\n",
       "    border-radius: 1em;\n",
       "    height: 1em;\n",
       "    width: 1em;\n",
       "    text-decoration: none !important;\n",
       "    margin-left: 1ex;\n",
       "    border: var(--sklearn-color-level-1) 1pt solid;\n",
       "    color: var(--sklearn-color-level-1);\n",
       "  }\n",
       "\n",
       "  /* On hover */\n",
       "  div.sk-estimator:hover .sk-estimator-doc-link:hover,\n",
       "  .sk-estimator-doc-link:hover,\n",
       "  div.sk-label-container:hover .sk-estimator-doc-link:hover,\n",
       "  .sk-estimator-doc-link:hover {\n",
       "    background-color: var(--sklearn-color-level-3);\n",
       "    color: var(--sklearn-color-background);\n",
       "    text-decoration: none;\n",
       "  }\n",
       "\n",
       "  /* Span, style for the box shown on hovering the info icon */\n",
       "  .sk-estimator-doc-link span {\n",
       "    display: none;\n",
       "    z-index: 9999;\n",
       "    position: relative;\n",
       "    font-weight: normal;\n",
       "    right: .2ex;\n",
       "    padding: .5ex;\n",
       "    margin: .5ex;\n",
       "    width: min-content;\n",
       "    min-width: 20ex;\n",
       "    max-width: 50ex;\n",
       "    color: var(--sklearn-color-text);\n",
       "    box-shadow: 2pt 2pt 4pt #999;\n",
       "    background: var(--sklearn-color-level-0);\n",
       "    border: .5pt solid var(--sklearn-color-level-3);\n",
       "  }\n",
       "\n",
       "  .sk-estimator-doc-link:hover span {\n",
       "    display: block;\n",
       "  }\n",
       "\n",
       "  /* \"?\"-specific style due to the `<a>` HTML tag */\n",
       "\n",
       "  #sk-3e60962c-ae17-40f6-a1e9-6d9b35bf69a9 a.estimator_doc_link {\n",
       "    float: right;\n",
       "    font-size: 1rem;\n",
       "    line-height: 1em;\n",
       "    font-family: monospace;\n",
       "    background-color: var(--sklearn-color-background);\n",
       "    border-radius: 1rem;\n",
       "    height: 1rem;\n",
       "    width: 1rem;\n",
       "    text-decoration: none;\n",
       "    color: var(--sklearn-color-level-1);\n",
       "    border: var(--sklearn-color-level-1) 1pt solid;\n",
       "  }\n",
       "\n",
       "  /* On hover */\n",
       "  #sk-3e60962c-ae17-40f6-a1e9-6d9b35bf69a9 a.estimator_doc_link:hover {\n",
       "    background-color: var(--sklearn-color-level-3);\n",
       "    color: var(--sklearn-color-background);\n",
       "    text-decoration: none;\n",
       "  }\n",
       "</style><div id='sk-3e60962c-ae17-40f6-a1e9-6d9b35bf69a9' class=\"sk-top-container\"><div class=\"sk-text-repr-fallback\"><pre>PytorchForecastingNHiTS(trainer_params={&#x27;max_epochs&#x27;: 10})</pre><b>Please rerun this cell to show the HTML repr or trust the notebook.</b></div><div class=\"sk-container\" hidden><div class='sk-item'><div class=\"sk-estimator sk-toggleable\"><input class=\"sk-toggleable__control sk-hidden--visually\" id=UUID('a337566e-9615-48d5-87ad-fc82bdf00bbc') type=\"checkbox\" checked><label for=UUID('a337566e-9615-48d5-87ad-fc82bdf00bbc') class='sk-toggleable__label sk-toggleable__label-arrow'>PytorchForecastingNHiTS<a class=\"sk-estimator-doc-link\" rel=\"noreferrer\" target=\"_blank\" href=\"https://www.sktime.net/en/v0.32.2/api_reference/auto_generated/sktime.forecasting.pytorchforecasting.PytorchForecastingNHiTS.html\">?<span>Documentation for PytorchForecastingNHiTS</span></a></label><div class=\"sk-toggleable__content\"><pre>PytorchForecastingNHiTS(trainer_params={&#x27;max_epochs&#x27;: 10})</pre></div></div></div></div></div>"
      ],
      "text/plain": [
       "PytorchForecastingNHiTS(trainer_params={'max_epochs': 10})"
      ]
     },
     "execution_count": 13,
     "metadata": {},
     "output_type": "execute_result"
    }
   ],
   "source": [
    "# This could take 1 min to fit the data\n",
    "from sktime.forecasting.pytorchforecasting import PytorchForecastingNHiTS\n",
    "\n",
    "model = PytorchForecastingNHiTS(\n",
    "    trainer_params={\n",
    "        \"max_epochs\": 10,  # for quick test\n",
    "    },\n",
    ")\n",
    "\n",
    "model.fit(y=y_train, X=X_train, fh=fh)"
   ]
  },
  {
   "cell_type": "markdown",
   "metadata": {},
   "source": [
    "Now we can predict on `y_test` with `X_test`.\n",
    "\n",
    "`y_test` is shorter than `X_test` as `y_test` only contains the historical values not the time points to be predicted."
   ]
  },
  {
   "cell_type": "code",
   "execution_count": 14,
   "metadata": {},
   "outputs": [
    {
     "name": "stderr",
     "output_type": "stream",
     "text": [
      "GPU available: False, used: False\n",
      "TPU available: False, using: 0 TPU cores\n",
      "HPU available: False, using: 0 HPUs\n"
     ]
    },
    {
     "data": {
      "text/html": [
       "<div>\n",
       "<style scoped>\n",
       "    .dataframe tbody tr th:only-of-type {\n",
       "        vertical-align: middle;\n",
       "    }\n",
       "\n",
       "    .dataframe tbody tr th {\n",
       "        vertical-align: top;\n",
       "    }\n",
       "\n",
       "    .dataframe thead th {\n",
       "        text-align: right;\n",
       "    }\n",
       "</style>\n",
       "<table border=\"1\" class=\"dataframe\">\n",
       "  <thead>\n",
       "    <tr style=\"text-align: right;\">\n",
       "      <th></th>\n",
       "      <th></th>\n",
       "      <th></th>\n",
       "      <th>volume</th>\n",
       "    </tr>\n",
       "    <tr>\n",
       "      <th>agency</th>\n",
       "      <th>sku</th>\n",
       "      <th>date</th>\n",
       "      <th></th>\n",
       "    </tr>\n",
       "  </thead>\n",
       "  <tbody>\n",
       "    <tr>\n",
       "      <th rowspan=\"5\" valign=\"top\">Agency_56</th>\n",
       "      <th rowspan=\"5\" valign=\"top\">SKU_01</th>\n",
       "      <th>2017-04-01</th>\n",
       "      <td>4378.733398</td>\n",
       "    </tr>\n",
       "    <tr>\n",
       "      <th>2017-05-01</th>\n",
       "      <td>4015.755859</td>\n",
       "    </tr>\n",
       "    <tr>\n",
       "      <th>2017-06-01</th>\n",
       "      <td>3714.343262</td>\n",
       "    </tr>\n",
       "    <tr>\n",
       "      <th>2017-07-01</th>\n",
       "      <td>3766.901367</td>\n",
       "    </tr>\n",
       "    <tr>\n",
       "      <th>2017-08-01</th>\n",
       "      <td>3570.038330</td>\n",
       "    </tr>\n",
       "    <tr>\n",
       "      <th>...</th>\n",
       "      <th>...</th>\n",
       "      <th>...</th>\n",
       "      <td>...</td>\n",
       "    </tr>\n",
       "    <tr>\n",
       "      <th rowspan=\"5\" valign=\"top\">Agency_60</th>\n",
       "      <th rowspan=\"5\" valign=\"top\">SKU_23</th>\n",
       "      <th>2017-08-01</th>\n",
       "      <td>1.431321</td>\n",
       "    </tr>\n",
       "    <tr>\n",
       "      <th>2017-09-01</th>\n",
       "      <td>0.310066</td>\n",
       "    </tr>\n",
       "    <tr>\n",
       "      <th>2017-10-01</th>\n",
       "      <td>0.131477</td>\n",
       "    </tr>\n",
       "    <tr>\n",
       "      <th>2017-11-01</th>\n",
       "      <td>1.069225</td>\n",
       "    </tr>\n",
       "    <tr>\n",
       "      <th>2017-12-01</th>\n",
       "      <td>1.331336</td>\n",
       "    </tr>\n",
       "  </tbody>\n",
       "</table>\n",
       "<p>315 rows × 1 columns</p>\n",
       "</div>"
      ],
      "text/plain": [
       "                                  volume\n",
       "agency    sku    date                   \n",
       "Agency_56 SKU_01 2017-04-01  4378.733398\n",
       "                 2017-05-01  4015.755859\n",
       "                 2017-06-01  3714.343262\n",
       "                 2017-07-01  3766.901367\n",
       "                 2017-08-01  3570.038330\n",
       "...                                  ...\n",
       "Agency_60 SKU_23 2017-08-01     1.431321\n",
       "                 2017-09-01     0.310066\n",
       "                 2017-10-01     0.131477\n",
       "                 2017-11-01     1.069225\n",
       "                 2017-12-01     1.331336\n",
       "\n",
       "[315 rows x 1 columns]"
      ]
     },
     "execution_count": 14,
     "metadata": {},
     "output_type": "execute_result"
    }
   ],
   "source": [
    "y_pred = model.predict(fh=fh, X=X_test, y=y_test)\n",
    "y_pred"
   ]
  },
  {
   "cell_type": "markdown",
   "metadata": {},
   "source": [
    "We can plot one series to see the result. As we train the model for a few epochs, we can not expect too much."
   ]
  },
  {
   "cell_type": "code",
   "execution_count": 15,
   "metadata": {},
   "outputs": [
    {
     "data": {
      "text/plain": [
       "(<Figure size 1600x400 with 1 Axes>, <Axes: ylabel='volume'>)"
      ]
     },
     "execution_count": 15,
     "metadata": {},
     "output_type": "execute_result"
    },
    {
     "data": {
      "image/png": "[encoded data removed]",
      "text/plain": [
       "<Figure size 1600x400 with 1 Axes>"
      ]
     },
     "metadata": {},
     "output_type": "display_data"
    }
   ],
   "source": [
    "ins=(\"Agency_59\",\"SKU_04\")\n",
    "plot_series(\n",
    "    y_test.loc[ins],\n",
    "    y_pred.loc[ins],\n",
    "    y_true.loc[ins],\n",
    "    labels=[\"y\", \"y_pred\", \"y_true\"],\n",
    ")"
   ]
  },
  {
   "cell_type": "markdown",
   "metadata": {},
   "source": [
    "### Global Forecasters in sktime"
   ]
  },
  {
   "cell_type": "markdown",
   "metadata": {},
   "source": [
    "List of the global forecasters available in sktime"
   ]
  },
  {
   "cell_type": "code",
   "execution_count": 16,
   "metadata": {},
   "outputs": [
    {
     "data": {
      "text/html": [
       "<div>\n",
       "<style scoped>\n",
       "    .dataframe tbody tr th:only-of-type {\n",
       "        vertical-align: middle;\n",
       "    }\n",
       "\n",
       "    .dataframe tbody tr th {\n",
       "        vertical-align: top;\n",
       "    }\n",
       "\n",
       "    .dataframe thead th {\n",
       "        text-align: right;\n",
       "    }\n",
       "</style>\n",
       "<table border=\"1\" class=\"dataframe\">\n",
       "  <thead>\n",
       "    <tr style=\"text-align: right;\">\n",
       "      <th></th>\n",
       "      <th>name</th>\n",
       "      <th>object</th>\n",
       "    </tr>\n",
       "  </thead>\n",
       "  <tbody>\n",
       "    <tr>\n",
       "      <th>0</th>\n",
       "      <td>PytorchForecastingDeepAR</td>\n",
       "      <td>&lt;class 'sktime.forecasting.pytorchforecasting....</td>\n",
       "    </tr>\n",
       "    <tr>\n",
       "      <th>1</th>\n",
       "      <td>PytorchForecastingNBeats</td>\n",
       "      <td>&lt;class 'sktime.forecasting.pytorchforecasting....</td>\n",
       "    </tr>\n",
       "    <tr>\n",
       "      <th>2</th>\n",
       "      <td>PytorchForecastingNHiTS</td>\n",
       "      <td>&lt;class 'sktime.forecasting.pytorchforecasting....</td>\n",
       "    </tr>\n",
       "    <tr>\n",
       "      <th>3</th>\n",
       "      <td>PytorchForecastingTFT</td>\n",
       "      <td>&lt;class 'sktime.forecasting.pytorchforecasting....</td>\n",
       "    </tr>\n",
       "    <tr>\n",
       "      <th>4</th>\n",
       "      <td>TimesFMForecaster</td>\n",
       "      <td>&lt;class 'sktime.forecasting.timesfm_forecaster....</td>\n",
       "    </tr>\n",
       "    <tr>\n",
       "      <th>5</th>\n",
       "      <td>TinyTimeMixerForecaster</td>\n",
       "      <td>&lt;class 'sktime.forecasting.ttm.TinyTimeMixerFo...</td>\n",
       "    </tr>\n",
       "  </tbody>\n",
       "</table>\n",
       "</div>"
      ],
      "text/plain": [
       "                       name                                             object\n",
       "0  PytorchForecastingDeepAR  <class 'sktime.forecasting.pytorchforecasting....\n",
       "1  PytorchForecastingNBeats  <class 'sktime.forecasting.pytorchforecasting....\n",
       "2   PytorchForecastingNHiTS  <class 'sktime.forecasting.pytorchforecasting....\n",
       "3     PytorchForecastingTFT  <class 'sktime.forecasting.pytorchforecasting....\n",
       "4         TimesFMForecaster  <class 'sktime.forecasting.timesfm_forecaster....\n",
       "5   TinyTimeMixerForecaster  <class 'sktime.forecasting.ttm.TinyTimeMixerFo..."
      ]
     },
     "execution_count": 16,
     "metadata": {},
     "output_type": "execute_result"
    }
   ],
   "source": [
    "from sktime.registry import all_estimators\n",
    "\n",
    "all_estimators(\n",
    "\t\"forecaster\",\n",
    "\tfilter_tags={\"capability:global_forecasting\": True},\n",
    "\tas_dataframe=True,\n",
    ")"
   ]
  },
  {
   "cell_type": "markdown",
   "metadata": {},
   "source": [
    "More expected models with global forecasting interface in future - [ [ENH] Make forecasters global - Wishlist #6836 ](https://github.com/sktime/sktime/issues/6836)"
   ]
  },
  {
   "cell_type": "markdown",
   "metadata": {},
   "source": [
    "## Foundation models"
   ]
  },
  {
   "cell_type": "markdown",
   "metadata": {},
   "source": [
    "**What is a foundation model?**\n",
    "\n",
    "A foundation models are large, **pre-trained deep learning** models designed to perform well on various different types of time series.\n",
    "\n",
    "Typically:\n",
    "* uses \"transformer\" or other advanced deep learning architecture\n",
    "* weights need to be downloaded and handled\n",
    "* 2024 state: model code not easily installable!\n",
    "    * most models have no proper package releases\n",
    "    * heavy or conflicted dependency sets\n",
    "    * commercial open source with \"lock-in\" or \"lock-down\" flavour"
   ]
  },
  {
   "cell_type": "markdown",
   "metadata": {},
   "source": [
    "`sktime`-less users need to manage:\n",
    "* **model code**, e.g., source installation\n",
    "* **model code dependencies**, python packages\n",
    "* **weights**, e.g., .pkl, .pt, .bin, .h5 files\n",
    "* **weight dependencies**, python packages"
   ]
  },
  {
   "cell_type": "markdown",
   "metadata": {},
   "source": [
    "`sktime` API abstracts this away and manages on framework level"
   ]
  },
  {
   "cell_type": "markdown",
   "metadata": {},
   "source": [
    "<img src=\"./img/fm-simple.png\" alt=\"Foundation Model Overview\" style=\"width: 100%; max-width: 600px;\">"
   ]
  },
  {
   "cell_type": "markdown",
   "metadata": {},
   "source": [
    "### Examples"
   ]
  },
  {
   "cell_type": "code",
   "execution_count": 17,
   "metadata": {},
   "outputs": [],
   "source": [
    "from sktime.datasets import load_airline\n",
    "\n",
    "# Load the dataset for example\n",
    "y = load_airline()"
   ]
  },
  {
   "cell_type": "code",
   "execution_count": 18,
   "metadata": {},
   "outputs": [],
   "source": [
    "# keep same prediction length for all examples\n",
    "pred_len = 16"
   ]
  },
  {
   "cell_type": "code",
   "execution_count": 19,
   "metadata": {},
   "outputs": [],
   "source": [
    "# import plotting function\n",
    "from sktime.utils.plotting import plot_series"
   ]
  },
  {
   "cell_type": "markdown",
   "metadata": {},
   "source": [
    "#### Huggingface Transformers"
   ]
  },
  {
   "cell_type": "markdown",
   "metadata": {},
   "source": [
    "Forecaster that uses pretrained huggingface models for forecasting.\n",
    "\n",
    "This forecaster fetches the model from the huggingface model hub.\n",
    "\n",
    "Note, this forecaster is in an experimental state. It is currently only\n",
    "working for Informer, Autoformer, and TimeSeriesTransformer."
   ]
  },
  {
   "cell_type": "code",
   "execution_count": 20,
   "metadata": {},
   "outputs": [],
   "source": [
    "from sktime.forecasting.hf_transformers_forecaster import HFTransformersForecaster"
   ]
  },
  {
   "cell_type": "markdown",
   "metadata": {},
   "source": [
    "`model_path`\n",
    "\n",
    "You can provide path to a huggingface repo or a local folder that contains model config and \n",
    "weights\n",
    "\n",
    "For-example\n",
    "- huggingface/informer-tourism-monthly\n",
    "- huggingface/autoformer-tourism-monthly\n",
    "- huggingface/time-series-transformer-tourism-monthly"
   ]
  },
  {
   "cell_type": "code",
   "execution_count": 21,
   "metadata": {},
   "outputs": [],
   "source": [
    "forecaster = HFTransformersForecaster(\n",
    "    model_path = \"huggingface/informer-tourism-monthly\",\n",
    ")"
   ]
  },
  {
   "cell_type": "markdown",
   "metadata": {},
   "source": [
    "`fit_strategy`\n",
    "- \"minimal\": Fine-tunes only newly initialized model parameters, allowing for quick adaptation with limited computational resources. No training if no new parameters are initialized"
   ]
  },
  {
   "cell_type": "code",
   "execution_count": 22,
   "metadata": {},
   "outputs": [],
   "source": [
    "forecaster = HFTransformersForecaster(\n",
    "    model_path = \"huggingface/informer-tourism-monthly\",\n",
    "    fit_strategy = \"minimal\",\n",
    ")"
   ]
  },
  {
   "cell_type": "markdown",
   "metadata": {},
   "source": [
    "- \"full\": Fine-tunes all model parameters, which may result in better\n",
    "    performance but requires more computational power and time."
   ]
  },
  {
   "cell_type": "code",
   "execution_count": 23,
   "metadata": {},
   "outputs": [],
   "source": [
    "forecaster = HFTransformersForecaster(\n",
    "    model_path = \"huggingface/informer-tourism-monthly\",\n",
    "    fit_strategy = \"full\",\n",
    ")"
   ]
  },
  {
   "cell_type": "markdown",
   "metadata": {},
   "source": [
    "- \"peft\": Applies Parameter-Efficient Fine-Tuning (PEFT) techniques to adapt\n",
    "    the model with fewer trainable parameters, saving computational resources.\n",
    "    Note: If the 'peft' package is not available, a `ModuleNotFoundError` will\n",
    "    be raised, indicating that the 'peft' package is required. Please install\n",
    "    it using `pip install peft` to use this fit strategy."
   ]
  },
  {
   "cell_type": "code",
   "execution_count": 24,
   "metadata": {},
   "outputs": [],
   "source": [
    "from peft import LoraConfig\n",
    "\n",
    "forecaster = HFTransformersForecaster(\n",
    "    model_path = \"huggingface/informer-tourism-monthly\",\n",
    "    fit_strategy = \"peft\",\n",
    "    peft_config=LoraConfig(\n",
    "        r=8,\n",
    "        lora_alpha=32,\n",
    "        target_modules=[\"q_proj\", \"v_proj\"],\n",
    "        lora_dropout=0.01,\n",
    "    )\n",
    ")"
   ]
  },
  {
   "cell_type": "markdown",
   "metadata": {},
   "source": [
    "Initializing model for the example"
   ]
  },
  {
   "cell_type": "code",
   "execution_count": 25,
   "metadata": {},
   "outputs": [],
   "source": [
    "forecaster = HFTransformersForecaster(\n",
    "    model_path = \"huggingface/informer-tourism-monthly\",\n",
    "    fit_strategy = \"full\",\n",
    "    training_args = {\n",
    "        \"num_train_epochs\": 30,\n",
    "        \"output_dir\": \"test_output\",\n",
    "        \"per_device_train_batch_size\": 32,\n",
    "        \"report_to\": \"none\",\n",
    "    },\n",
    "    config = {\n",
    "        \"lags_sequence\": [1, 12, 24],\n",
    "        \"context_length\": 24,\n",
    "        \"prediction_length\": pred_len,\n",
    "        \"use_cpu\": True,\n",
    "        \"label_length\": 8,\n",
    "    },\n",
    "    deterministic = True,\n",
    ")"
   ]
  },
  {
   "cell_type": "code",
   "execution_count": 26,
   "metadata": {},
   "outputs": [
    {
     "name": "stderr",
     "output_type": "stream",
     "text": [
      "Some weights of the model checkpoint at huggingface/informer-tourism-monthly were not used when initializing InformerForPrediction: ['model.embedder.embedders.0.weight']\n",
      "- This IS expected if you are initializing InformerForPrediction from the checkpoint of a model trained on another task or with another architecture (e.g. initializing a BertForSequenceClassification model from a BertForPreTraining model).\n",
      "- This IS NOT expected if you are initializing InformerForPrediction from the checkpoint of a model that you expect to be exactly identical (initializing a BertForSequenceClassification model from a BertForSequenceClassification model).\n",
      "Some weights of InformerForPrediction were not initialized from the model checkpoint at huggingface/informer-tourism-monthly and are newly initialized because the shapes did not match:\n",
      "- model.encoder.value_embedding.value_projection.weight: found shape torch.Size([32, 22]) in the checkpoint and torch.Size([32, 5]) in the model instantiated\n",
      "- model.encoder.embed_positions.weight: found shape torch.Size([48, 32]) in the checkpoint and torch.Size([41, 32]) in the model instantiated\n",
      "- model.decoder.value_embedding.value_projection.weight: found shape torch.Size([32, 22]) in the checkpoint and torch.Size([32, 5]) in the model instantiated\n",
      "- model.decoder.embed_positions.weight: found shape torch.Size([48, 32]) in the checkpoint and torch.Size([41, 32]) in the model instantiated\n",
      "You should probably TRAIN this model on a down-stream task to be able to use it for predictions and inference.\n"
     ]
    },
    {
     "name": "stdout",
     "output_type": "stream",
     "text": [
      "{'train_runtime': 8.8387, 'train_samples_per_second': 173.103, 'train_steps_per_second': 6.788, 'train_loss': 6.558000183105468, 'epoch': 30.0}\n"
     ]
    }
   ],
   "source": [
    "forecaster.fit(y, fh=list(range(1, pred_len+1)))\n",
    "y_pred = forecaster.predict()"
   ]
  },
  {
   "cell_type": "code",
   "execution_count": 27,
   "metadata": {},
   "outputs": [
    {
     "data": {
      "text/plain": [
       "(<Figure size 1600x400 with 1 Axes>,\n",
       " <Axes: ylabel='Number of airline passengers'>)"
      ]
     },
     "execution_count": 27,
     "metadata": {},
     "output_type": "execute_result"
    },
    {
     "data": {
      "image/png": "[encoded data removed]",
      "text/plain": [
       "<Figure size 1600x400 with 1 Axes>"
      ]
     },
     "metadata": {},
     "output_type": "display_data"
    }
   ],
   "source": [
    "plot_series(y, y_pred)"
   ]
  },
  {
   "cell_type": "markdown",
   "metadata": {},
   "source": [
    "#### TinyTimeMixer"
   ]
  },
  {
   "cell_type": "markdown",
   "metadata": {},
   "source": [
    "TinyTimeMixer (TTM) is a compact, pre-trained model for time-series forecasting, developed and open-sourced by IBM Research.\n",
    "\n",
    "- **Research Paper:** [Tiny Time Mixers (TTMs): Fast Pre-trained Models for Enhanced Zero/Few-Shot Forecasting of Multivariate Time Series](https://www.researchgate.net/profile/Vijay-Ekambaram/publication/381111250_Tiny_Time_Mixers_TTMs_Fast_Pre-trained_Models_for_Enhanced_ZeroFew-Shot_Forecasting_of_Multivariate_Time_Series/links/665d8c5d0b0d2845747de5f5/Tiny-Time-Mixers-TTMs-Fast-Pre-trained-Models-for-Enhanced-Zero-Few-Shot-Forecasting-of-Multivariate-Time-Series.pdf)\n",
    "- **Official Code:** [ibm-granite/granite-tsfm](https://github.com/ibm-granite/granite-tsfm)"
   ]
  },
  {
   "cell_type": "code",
   "execution_count": 28,
   "metadata": {},
   "outputs": [],
   "source": [
    "from sktime.forecasting.ttm import TinyTimeMixerForecaster"
   ]
  },
  {
   "cell_type": "markdown",
   "metadata": {},
   "source": [
    "**Zero-Shot Forecasting**\n",
    "\n",
    "with the default configuration, model performs zero-shot"
   ]
  },
  {
   "cell_type": "code",
   "execution_count": 29,
   "metadata": {},
   "outputs": [],
   "source": [
    "forecaster = TinyTimeMixerForecaster()\n",
    "\n",
    "forecaster.fit(y, fh=list(range(1, pred_len+1)))\n",
    "y_pred = forecaster.predict()"
   ]
  },
  {
   "cell_type": "code",
   "execution_count": 30,
   "metadata": {},
   "outputs": [
    {
     "data": {
      "text/plain": [
       "(<Figure size 1600x400 with 1 Axes>,\n",
       " <Axes: ylabel='Number of airline passengers'>)"
      ]
     },
     "execution_count": 30,
     "metadata": {},
     "output_type": "execute_result"
    },
    {
     "data": {
      "image/png": "[encoded data removed]",
      "text/plain": [
       "<Figure size 1600x400 with 1 Axes>"
      ]
     },
     "metadata": {},
     "output_type": "display_data"
    }
   ],
   "source": [
    "plot_series(y, y_pred)"
   ]
  },
  {
   "cell_type": "markdown",
   "metadata": {},
   "source": [
    "**Fine-Tuning**\n",
    "\n",
    "when a different configuration is provided, some weights are re-initialized and fine-tuned"
   ]
  },
  {
   "cell_type": "code",
   "execution_count": 31,
   "metadata": {},
   "outputs": [
    {
     "name": "stderr",
     "output_type": "stream",
     "text": [
      "Some weights of TinyTimeMixerForPrediction were not initialized from the model checkpoint at ibm/TTM and are newly initialized because the shapes did not match:\n",
      "- backbone.encoder.patcher.weight: found shape torch.Size([192, 64]) in the checkpoint and torch.Size([192, 4]) in the model instantiated\n",
      "- head.base_forecast_block.bias: found shape torch.Size([96]) in the checkpoint and torch.Size([16]) in the model instantiated\n",
      "- head.base_forecast_block.weight: found shape torch.Size([96, 1024]) in the checkpoint and torch.Size([16, 1024]) in the model instantiated\n",
      "You should probably TRAIN this model on a down-stream task to be able to use it for predictions and inference.\n"
     ]
    },
    {
     "name": "stdout",
     "output_type": "stream",
     "text": [
      "{'train_runtime': 22.9099, 'train_samples_per_second': 296.815, 'train_steps_per_second': 13.095, 'train_loss': 289.96348958333334, 'epoch': 100.0}\n"
     ]
    }
   ],
   "source": [
    "forecaster = TinyTimeMixerForecaster(\n",
    "    config={\n",
    "        \"context_length\": 32,\n",
    "        \"prediction_length\": pred_len,\n",
    "    },\n",
    "    training_args={\n",
    "        \"num_train_epochs\": 100,\n",
    "        \"output_dir\": \"test_output\",\n",
    "        \"per_device_train_batch_size\": 32,\n",
    "        \"report_to\": \"none\",\n",
    "        \"learning_rate\": 1e-2,\n",
    "    },\n",
    ")\n",
    "forecaster.fit(y, fh=list(range(1, pred_len+1)))\n",
    "y_pred = forecaster.predict()"
   ]
  },
  {
   "cell_type": "code",
   "execution_count": 32,
   "metadata": {},
   "outputs": [
    {
     "data": {
      "text/plain": [
       "(<Figure size 1600x400 with 1 Axes>,\n",
       " <Axes: ylabel='Number of airline passengers'>)"
      ]
     },
     "execution_count": 32,
     "metadata": {},
     "output_type": "execute_result"
    },
    {
     "data": {
      "image/png": "[encoded data removed]",
      "text/plain": [
       "<Figure size 1600x400 with 1 Axes>"
      ]
     },
     "metadata": {},
     "output_type": "display_data"
    }
   ],
   "source": [
    "plot_series(y, y_pred)"
   ]
  },
  {
   "cell_type": "markdown",
   "metadata": {},
   "source": [
    "TinyTimeMixer can perform global forecasitng as well"
   ]
  },
  {
   "cell_type": "code",
   "execution_count": 48,
   "metadata": {},
   "outputs": [
    {
     "data": {
      "text/plain": [
       "True"
      ]
     },
     "execution_count": 48,
     "metadata": {},
     "output_type": "execute_result"
    }
   ],
   "source": [
    "TinyTimeMixerForecaster().get_tag(\n",
    "    \"capability:global_forecasting\"\n",
    ")"
   ]
  },
  {
   "cell_type": "markdown",
   "metadata": {},
   "source": [
    "#### TimesFM"
   ]
  },
  {
   "cell_type": "markdown",
   "metadata": {},
   "source": [
    "TimesFM (Time Series Foundation Model) is a pre-trained model developed by Google Research, designed specifically for zero-shot forecasting.\n",
    "\n",
    "- **Research Paper:** [A Decoder-Only Foundation Model for Time-Series Forecasting](https://arxiv.org/abs/2310.10688)\n",
    "- **Official Code:** [google-research/timesfm](https://github.com/google-research/timesfm)\n",
    "\n",
    "**Note**: `TimesFM` is supported only on `Linux` and `python==3.10`"
   ]
  },
  {
   "cell_type": "markdown",
   "metadata": {},
   "source": [
    "To run this, you need to install timesfm explicitly"
   ]
  },
  {
   "cell_type": "code",
   "execution_count": 51,
   "metadata": {},
   "outputs": [],
   "source": [
    "# uncomment to install timesfm\n",
    "# !pip install timesfm --quiet"
   ]
  },
  {
   "cell_type": "markdown",
   "metadata": {},
   "source": [
    "**Zero-Shot Forecasting**"
   ]
  },
  {
   "cell_type": "code",
   "execution_count": 34,
   "metadata": {},
   "outputs": [],
   "source": [
    "from sktime.forecasting.timesfm_forecaster import TimesFMForecaster\n",
    "\n",
    "forecaster = TimesFMForecaster(\n",
    "    context_len=64,\n",
    "    horizon_len=pred_len,\n",
    ")"
   ]
  },
  {
   "cell_type": "code",
   "execution_count": 36,
   "metadata": {},
   "outputs": [
    {
     "name": "stdout",
     "output_type": "stream",
     "text": [
      "Multiprocessing context has already been set.\n"
     ]
    },
    {
     "name": "stderr",
     "output_type": "stream",
     "text": [
      "WARNING:absl:No registered CheckpointArgs found for handler type: <class 'paxml.checkpoints.FlaxCheckpointHandler'>\n",
      "WARNING:absl:Configured `CheckpointManager` using deprecated legacy API. Please follow the instructions at https://orbax.readthedocs.io/en/latest/api_refactor.html to migrate by May 1st, 2024.\n",
      "WARNING:absl:train_state_unpadded_shape_dtype_struct is not provided. We assume `train_state` is unpadded.\n",
      "ERROR:absl:For checkpoint version > 1.0, we require users to provide\n",
      "          `train_state_unpadded_shape_dtype_struct` during checkpoint\n",
      "          saving/restoring, to avoid potential silent bugs when loading\n",
      "          checkpoints to incompatible unpadded shapes of TrainState.\n"
     ]
    }
   ],
   "source": [
    "forecaster.fit(y, fh=list(range(1, pred_len+1)))\n",
    "y_pred = forecaster.predict()"
   ]
  },
  {
   "cell_type": "code",
   "execution_count": 37,
   "metadata": {},
   "outputs": [
    {
     "data": {
      "text/plain": [
       "(<Figure size 1600x400 with 1 Axes>,\n",
       " <Axes: ylabel='Number of airline passengers'>)"
      ]
     },
     "execution_count": 37,
     "metadata": {},
     "output_type": "execute_result"
    },
    {
     "data": {
      "image/png": "[encoded data removed]",
      "text/plain": [
       "<Figure size 1600x400 with 1 Axes>"
      ]
     },
     "metadata": {},
     "output_type": "display_data"
    }
   ],
   "source": [
    "plot_series(y, y_pred)"
   ]
  },
  {
   "cell_type": "markdown",
   "metadata": {},
   "source": [
    "TimesFM also has global capability"
   ]
  },
  {
   "cell_type": "code",
   "execution_count": 50,
   "metadata": {},
   "outputs": [
    {
     "data": {
      "text/plain": [
       "True"
      ]
     },
     "execution_count": 50,
     "metadata": {},
     "output_type": "execute_result"
    }
   ],
   "source": [
    "TimesFMForecaster(64, 16).get_tag(\n",
    "    \"capability:global_forecasting\"\n",
    ")"
   ]
  },
  {
   "cell_type": "markdown",
   "metadata": {},
   "source": [
    "More Foundation Models to come in future - [#6177](https://github.com/sktime/sktime/issues/6177)\n",
    "\n",
    "Here are a few foundation models in progress \n",
    "| Foundation Model  | Pull Request                                    | Contributor                  |\n",
    "|-------------------|-------------------------------------------------|------------------------------|\n",
    "| Amazon Chronos    | [PR #6665](https://github.com/sktime/sktime/pull/6665) | [Z-Fran](https://github.com/Z-Fran)         |\n",
    "| LagLlama          | [PR #6659](https://github.com/sktime/sktime/pull/6659) | [shlok191](https://github.com/shlok191)     |\n",
    "| MOIRAI            | [PR #6299](https://github.com/sktime/sktime/pull/6299) | [pranavvp16](https://github.com/pranavvp16) |\n",
    "| MomentFM          | [PR #6570](https://github.com/sktime/sktime/pull/6570) | [julian-fong](https://github.com/julian-fong) |"
   ]
  },
  {
   "cell_type": "markdown",
   "metadata": {},
   "source": [
    "### managing model code - `sktime` forks vs source install"
   ]
  },
  {
   "cell_type": "markdown",
   "metadata": {},
   "source": [
    "**`sktime` forks typically more stable and reliable than official sources!**\n",
    "\n",
    "* optimized dependency management\n",
    "    * fm typically have very strict (sometimes impossible) requirements\n",
    "    * stability via `sktime` deprecation management\n",
    "* no (trustworthy) pypi release available\n",
    "    * fm models may not be on pypi, or inofficial releases not trustworthy\n",
    "* license stability\n",
    "    * licenses remain explicit and stable, deprecation management\n",
    "\n",
    "Default: forked code in [`sktime/libs`](TODO), license attached with the official code is kept as is and clearly visible.\n",
    "\n",
    "Source installation can be selected via `use_source_package` parameter"
   ]
  },
  {
   "cell_type": "markdown",
   "metadata": {},
   "source": [
    "For example you want to use `TinyTimeMixer` from the source package"
   ]
  },
  {
   "cell_type": "markdown",
   "metadata": {},
   "source": [
    "1. install from source"
   ]
  },
  {
   "cell_type": "code",
   "execution_count": 38,
   "metadata": {},
   "outputs": [],
   "source": [
    "# uncomment and run the following to install the 0.2.3 version of timesfm\n",
    "# !pip install git+https://github.com/ibm-granite/granite-tsfm.git@v0.2.3 --quiet"
   ]
  },
  {
   "cell_type": "markdown",
   "metadata": {},
   "source": [
    "2. set the `use_source_package` flag to `True`"
   ]
  },
  {
   "cell_type": "code",
   "execution_count": 39,
   "metadata": {},
   "outputs": [],
   "source": [
    "forecaster = TinyTimeMixerForecaster(\n",
    "    use_source_package=True,\n",
    ")"
   ]
  },
  {
   "cell_type": "markdown",
   "metadata": {},
   "source": [
    "## Recap"
   ]
  },
  {
   "cell_type": "markdown",
   "metadata": {},
   "source": [
    "\n",
    "**Global Forecasting**\n",
    "\n",
    "* Involves training models on multiple time series to make forecasts on new series.\n",
    "* Demonstrated with SKU volume prediction using sktime, both with and without exogenous data.\n",
    "\n",
    "**Foundation Models**\n",
    "\n",
    "* Large, pre-trained deep learning models designed to perform well on various different types of time series.\n",
    "* Demonstrated examples with huggingface transformers, TinyTimeMixer and TimesFM"
   ]
  },
  {
   "cell_type": "markdown",
   "metadata": {},
   "source": [
    "## What's Next?"
   ]
  },
  {
   "cell_type": "markdown",
   "metadata": {},
   "source": [
    "Developing sktime compatible components\n",
    "\n",
    "* how you can add components yourself\n",
    "* New sktime model marketplace\n",
    "* example - creating a custom forecaster"
   ]
  },
  {
   "cell_type": "markdown",
   "metadata": {},
   "source": [
    "---\n",
    "## Credits: notebook 3 - `global forecasting`\n",
    "\n",
    "notebook creation: xinyuwuu, geetu040, fkiraly, felipeangelimvieira\n",
    "\n",
    "global forecasting interface: xinyuwuu, benheid, fkiraly\n",
    "\n",
    "General credit also to `sklearn` and `sktime` contributors"
   ]
  }
 ],
 "metadata": {
  "kernelspec": {
   "display_name": "sktime_310",
   "language": "python",
   "name": "python3"
  },
  "language_info": {
   "codemirror_mode": {
    "name": "ipython",
    "version": 3
   },
   "file_extension": ".py",
   "mimetype": "text/x-python",
   "name": "python",
   "nbconvert_exporter": "python",
   "pygments_lexer": "ipython3",
   "version": "3.11.5"
  }
 },
 "nbformat": 4,
 "nbformat_minor": 2
}
