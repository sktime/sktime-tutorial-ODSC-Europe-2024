{
 "cells": [
  {
   "attachments": {},
   "cell_type": "markdown",
   "id": "37997396",
   "metadata": {},
   "source": [
    "# Summary & get involved!"
   ]
  },
  {
   "attachments": {},
   "cell_type": "markdown",
   "id": "9936be02",
   "metadata": {},
   "source": [
    "- `sklearn` / `sktime` interface:\n",
    "  - unified interface for objects/estimators\n",
    "  - modular design, strategy pattern\n",
    "  - composable, composites are interface homogeneous\n",
    "  - simple specification language and parameter interface\n",
    "  - visually informative pretty printing"
   ]
  },
  {
   "attachments": {},
   "cell_type": "markdown",
   "id": "4a55d803",
   "metadata": {},
   "source": [
    "Summary\n",
    "\n",
    "1. General introduction to `sktime` & `sklearn`\n",
    "\n",
    "2. forecasting with `sktime`\n",
    "\n",
    "    * endo- and exogeneous data\n",
    "    * uni- and multivariate\n",
    "    * probabilistic forecasting\n",
    "    * hierarchical forecasting\n",
    "\n",
    "3. advanced forecasting patterns\n",
    "\n",
    "    * feature engineering\n",
    "    * transformation pipelines\n",
    "    * tuning - parameter estimation, backtesting, autoML\n",
    "\n",
    "4. deep learning and foundation models\n",
    "\n",
    "    * global forecasting and cross-learning\n",
    "    * DL transformers, foundation models, fine-tuning\n",
    "\n",
    "5. anomaly, changepoint and outlier detection\n",
    "\n",
    "    * types of estimators and outputs\n",
    "    * `skchange` package integration\n",
    "    * plotting and evaluation\n",
    "\n",
    "6. API compatible extensions and marketplace features\n",
    "\n",
    "    * writing API compatible components\n",
    "    * 2nd party package building\n",
    "    * indexing your package on sktime"
   ]
  },
  {
   "attachments": {},
   "cell_type": "markdown",
   "id": "fbb8d3c5",
   "metadata": {},
   "source": [
    "Further reading:\n",
    "\n",
    "* main `sktime` [tutorials on binder](https://mybinder.org/v2/gh/sktime/sktime/main?filepath=examples)\n",
    "* recorded [video tutorials](https://www.youtube.com/playlist?list=PLKs3UgGjlWHqNzu0LEOeLKvnjvvest2d0)\n",
    "* find a bug or type? [tutorial feedback thread](https://github.com/sktime/sktime/issues/1447)"
   ]
  },
  {
   "attachments": {},
   "cell_type": "markdown",
   "id": "b66e01a8",
   "metadata": {},
   "source": [
    "---"
   ]
  },
  {
   "cell_type": "markdown",
   "id": "ef1cc771",
   "metadata": {},
   "source": [
    "## Join sktime!"
   ]
  },
  {
   "cell_type": "markdown",
   "id": "7c51e1f7",
   "metadata": {},
   "source": [
    "<img src=\"./img/mission-statement.png\" alt=\"sktime mission statement\" style=\"width: 100%; max-width: 1200px;\">"
   ]
  },
  {
   "attachments": {},
   "cell_type": "markdown",
   "id": "b6da2ae3",
   "metadata": {},
   "source": [
    "**EVERYONE CAN JOIN! EVERYONE CAN BECOME A COMMUNITY LEADER!**\n",
    "\n",
    "* [community discord](https://discord.com/invite/54ACzaFsn7)\n",
    "* [contributor getting started guide](https://github.com/sktime/sktime/)\n",
    "* [sktime **mentoring programme**](www.github.com/sktime/mentoring)\n",
    "* [council elections 2024](https://github.com/sktime/elections)\n",
    "\n",
    "Events & meetups:\n",
    "\n",
    "* [meet-ups every Fri 13 UTC, discord](https://discord.com/invite/54ACzaFsn7)\n",
    "    * Sep 13: S Hirsch - Online distributional regression, `rolch`\n",
    "    * Sep 20: S Blanke - `hyperactive` - tuning/optimization\n",
    "    * Oct 4: M Tveten - `skchange` - anomaly/changepoint detection\n",
    "* pydata Paris, Sep 25-26\n",
    "\n",
    "Support us if `sktime` has generated value for you!\n",
    "\n",
    ":star: [GitHub](https://github.com/sktime/sktime)\n",
    "\n",
    "subscribe on [LinkedIn](https://www.linkedin.com/company/scikit-time/)"
   ]
  },
  {
   "attachments": {},
   "cell_type": "markdown",
   "id": "adfa5420",
   "metadata": {},
   "source": [
    "---"
   ]
  },
  {
   "attachments": {},
   "cell_type": "markdown",
   "id": "286d4c8d",
   "metadata": {},
   "source": [
    "## Thank you for your attention"
   ]
  },
  {
   "attachments": {},
   "cell_type": "markdown",
   "id": "2d1c59a2",
   "metadata": {},
   "source": [
    "---\n",
    "### Credits: many thanks to [all `sktime` contributors](https://www.sktime.net/en/latest/about/contributors.html)!\n",
    "\n",
    "\n",
    "<img src=\"./img/sktime-logo-text-horizontal.jpg\" alt=\"Sktime Logo\" width=\"1000\"/>\n",
    "\n",
    "<img src=\"./img/contributors 2024-08.svg\" alt=\"sktime contributors\" width=\"1000\"/>"
   ]
  },
  {
   "cell_type": "markdown",
   "id": "92c1ce2d",
   "metadata": {},
   "source": [
    "\n",
    "Citations & credits in academic research papers:\n",
    "\n",
    "`sktime` toolbox:\n",
    " [sktime: A unified interface for machine learning with time series](https://arxiv.org/abs/1909.07872)\n",
    "\n",
    "`sktime` design principles: [Designing machine learning toolboxes: Concepts, principles and patterns](https://arxiv.org/abs/2101.04938)"
   ]
  }
 ],
 "metadata": {
  "kernelspec": {
   "display_name": "Python 3 (ipykernel)",
   "language": "python",
   "name": "python3"
  },
  "language_info": {
   "codemirror_mode": {
    "name": "ipython",
    "version": 3
   },
   "file_extension": ".py",
   "mimetype": "text/x-python",
   "name": "python",
   "nbconvert_exporter": "python",
   "pygments_lexer": "ipython3",
   "version": "3.11.5"
  }
 },
 "nbformat": 4,
 "nbformat_minor": 5
}
